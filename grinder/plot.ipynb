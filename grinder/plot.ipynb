{
 "cells": [
  {
   "cell_type": "code",
   "execution_count": 23,
   "metadata": {},
   "outputs": [],
   "source": [
    "from __future__ import print_function, division\n",
    "from collections import defaultdict, OrderedDict\n",
    "import gzip\n",
    "import pickle\n",
    "import json\n",
    "import os\n",
    "import uproot\n",
    "import matplotlib.pyplot as plt\n",
    "import numpy as np\n",
    "from fnal_column_analysis_tools import hist\n",
    "from fnal_column_analysis_tools.hist import plot\n"
   ]
  },
  {
   "cell_type": "code",
   "execution_count": 24,
   "metadata": {},
   "outputs": [
    {
     "name": "stdout",
     "output_type": "stream",
     "text": [
      "ZJetsToNuNu_HT-100To200_13TeV-madgraph.pkl.gz\n",
      "<gzip _io.BufferedReader name='hists/ZJetsToNuNu_HT-100To200_13TeV-madgraph.pkl.gz' 0x129a35668>\n",
      "ZJetsToNuNu_HT-600To800_13TeV-madgraph.pkl.gz\n",
      "<gzip _io.BufferedReader name='hists/ZJetsToNuNu_HT-600To800_13TeV-madgraph.pkl.gz' 0x129bd0198>\n",
      "ZJetsToNuNu_HT-2500ToInf_13TeV-madgraph.pkl.gz\n",
      "<gzip _io.BufferedReader name='hists/ZJetsToNuNu_HT-2500ToInf_13TeV-madgraph.pkl.gz' 0x12897ef28>\n",
      "ZJetsToNuNu_HT-1200To2500_13TeV-madgraph.pkl.gz\n",
      "<gzip _io.BufferedReader name='hists/ZJetsToNuNu_HT-1200To2500_13TeV-madgraph.pkl.gz' 0x129a322e8>\n",
      "ZJetsToNuNu_HT-400To600_13TeV-madgraph.pkl.gz\n",
      "<gzip _io.BufferedReader name='hists/ZJetsToNuNu_HT-400To600_13TeV-madgraph.pkl.gz' 0x129a14da0>\n",
      "ZJetsToNuNu_HT-800To1200_13TeV-madgraph.pkl.gz\n",
      "<gzip _io.BufferedReader name='hists/ZJetsToNuNu_HT-800To1200_13TeV-madgraph.pkl.gz' 0x129a14a90>\n",
      "ZJetsToNuNu_HT-200To400_13TeV-madgraph.pkl.gz\n",
      "<gzip _io.BufferedReader name='hists/ZJetsToNuNu_HT-200To400_13TeV-madgraph.pkl.gz' 0x128bdada0>\n",
      "<Hist (dataset,recoil) instance at 0x129a35668>\n"
     ]
    }
   ],
   "source": [
    "hists={}\n",
    "for filename in os.listdir('hists'):\n",
    "    print(filename)\n",
    "    with gzip.open('hists/'+filename) as fin:\n",
    "        print(fin)\n",
    "        hists.update(pickle.load(fin))\n",
    "\n",
    "print(hists['recoil'])"
   ]
  },
  {
   "cell_type": "code",
   "execution_count": 25,
   "metadata": {},
   "outputs": [
    {
     "name": "stdout",
     "output_type": "stream",
     "text": [
      "{('Z+jets',): (array([562766.4714879 ,  14548.55161948, 116950.21986117,   1579.80101769,\n",
      "       111015.29171365,      0.        ,      0.        ,      0.        ,\n",
      "            0.        ,      0.        ,      0.        ,      0.        ,\n",
      "            0.        ,      0.        ,      0.        ,      0.        ,\n",
      "            0.        ,      0.        ,      0.        ,      0.        ,\n",
      "            0.        ]), array([1264664.35899859,   32693.90704739,  262813.76437447,\n",
      "          3550.1724829 ,  249476.62991167,       0.        ,\n",
      "             0.        ,       0.        ,       0.        ,\n",
      "             0.        ,       0.        ,       0.        ,\n",
      "             0.        ,       0.        ,       0.        ,\n",
      "             0.        ,       0.        ,       0.        ,\n",
      "             0.        ,       0.        ,       0.        ]))}\n",
      "['Z+jets']\n"
     ]
    }
   ],
   "source": [
    "process = hist.Cat(\"process\", \"Process\", sorting='placement')\n",
    "process_cats = (\"dataset\")\n",
    "process_map = OrderedDict()\n",
    "#process_map[\"Hcc\"] = (\"GluGluHToCC\", 2)\n",
    "#process_map[\"Hbb\"] = (\"GluGluHToBB\", 3)\n",
    "process_map[\"Z+jets\"] = \"ZJets*\"\n",
    "#process_map[\"Zcc\"] = (\"ZJetsToQQ_HT*\", 2)\n",
    "#process_map[\"Zbb\"] = (\"ZJetsToQQ_HT*\", 3)\n",
    "#process_map[\"Wqq\"] = (\"WJetsToQQ_HT*\", 1)\n",
    "#process_map[\"Wcs\"] = (\"WJetsToQQ_HT*\", 2)\n",
    "#process_map[\"Top\"] = (\"TTTo*\", slice(None))\n",
    "#process_map[\"QCD\"] = (\"QCD*\", slice(None))\n",
    "\n",
    "\n",
    "for key in hists.keys():\n",
    "    hists[key] = hists[key].group(process, process_cats, process_map)\n",
    "\n",
    "print(hists['recoil'].values(sumw2=True))\n",
    "print(hists['recoil'].identifiers(\"process\"))"
   ]
  },
  {
   "cell_type": "code",
   "execution_count": 17,
   "metadata": {},
   "outputs": [
    {
     "ename": "KeyError",
     "evalue": "()",
     "output_type": "error",
     "traceback": [
      "\u001b[0;31m---------------------------------------------------------------------------\u001b[0m",
      "\u001b[0;31mKeyError\u001b[0m                                  Traceback (most recent call last)",
      "\u001b[0;32m<ipython-input-17-6ccd6a1b48e8>\u001b[0m in \u001b[0;36m<module>\u001b[0;34m\u001b[0m\n\u001b[1;32m     14\u001b[0m \u001b[0mfig\u001b[0m\u001b[0;34m,\u001b[0m \u001b[0max\u001b[0m \u001b[0;34m=\u001b[0m \u001b[0mplt\u001b[0m\u001b[0;34m.\u001b[0m\u001b[0msubplots\u001b[0m\u001b[0;34m(\u001b[0m\u001b[0;36m1\u001b[0m\u001b[0;34m,\u001b[0m \u001b[0;36m1\u001b[0m\u001b[0;34m,\u001b[0m \u001b[0mfigsize\u001b[0m\u001b[0;34m=\u001b[0m\u001b[0;34m(\u001b[0m\u001b[0;36m10\u001b[0m\u001b[0;34m,\u001b[0m\u001b[0;36m10\u001b[0m\u001b[0;34m)\u001b[0m\u001b[0;34m)\u001b[0m\u001b[0;34m\u001b[0m\u001b[0;34m\u001b[0m\u001b[0m\n\u001b[1;32m     15\u001b[0m \u001b[0max\u001b[0m\u001b[0;34m.\u001b[0m\u001b[0mset_prop_cycle\u001b[0m\u001b[0;34m(\u001b[0m\u001b[0mcycler\u001b[0m\u001b[0;34m(\u001b[0m\u001b[0mcolor\u001b[0m\u001b[0;34m=\u001b[0m\u001b[0mcolors\u001b[0m\u001b[0;34m)\u001b[0m\u001b[0;34m)\u001b[0m\u001b[0;34m\u001b[0m\u001b[0;34m\u001b[0m\u001b[0m\n\u001b[0;32m---> 16\u001b[0;31m \u001b[0mplot\u001b[0m\u001b[0;34m.\u001b[0m\u001b[0mplot1d\u001b[0m\u001b[0;34m(\u001b[0m\u001b[0mhists\u001b[0m\u001b[0;34m[\u001b[0m\u001b[0;34m'recoil'\u001b[0m\u001b[0;34m]\u001b[0m\u001b[0;34m,\u001b[0m \u001b[0max\u001b[0m\u001b[0;34m=\u001b[0m\u001b[0max\u001b[0m\u001b[0;34m,\u001b[0m \u001b[0moverlay\u001b[0m\u001b[0;34m=\u001b[0m\u001b[0;34m\"process\"\u001b[0m\u001b[0;34m,\u001b[0m \u001b[0mclear\u001b[0m\u001b[0;34m=\u001b[0m\u001b[0;32mFalse\u001b[0m\u001b[0;34m,\u001b[0m \u001b[0mstack\u001b[0m\u001b[0;34m=\u001b[0m\u001b[0;32mTrue\u001b[0m\u001b[0;34m,\u001b[0m \u001b[0mline_opts\u001b[0m\u001b[0;34m=\u001b[0m\u001b[0;32mNone\u001b[0m\u001b[0;34m,\u001b[0m \u001b[0mfill_opts\u001b[0m\u001b[0;34m=\u001b[0m\u001b[0mfill_opts\u001b[0m\u001b[0;34m,\u001b[0m \u001b[0merror_opts\u001b[0m\u001b[0;34m=\u001b[0m\u001b[0merror_opts\u001b[0m\u001b[0;34m)\u001b[0m\u001b[0;34m\u001b[0m\u001b[0;34m\u001b[0m\u001b[0m\n\u001b[0m\u001b[1;32m     17\u001b[0m \u001b[0;34m\u001b[0m\u001b[0m\n\u001b[1;32m     18\u001b[0m \u001b[0max\u001b[0m\u001b[0;34m.\u001b[0m\u001b[0mautoscale\u001b[0m\u001b[0;34m(\u001b[0m\u001b[0maxis\u001b[0m\u001b[0;34m=\u001b[0m\u001b[0;34m'x'\u001b[0m\u001b[0;34m,\u001b[0m \u001b[0mtight\u001b[0m\u001b[0;34m=\u001b[0m\u001b[0;32mTrue\u001b[0m\u001b[0;34m)\u001b[0m\u001b[0;34m\u001b[0m\u001b[0;34m\u001b[0m\u001b[0m\n",
      "\u001b[0;32m~/miniconda3/lib/python3.7/site-packages/fnal_column_analysis_tools/hist/plot.py\u001b[0m in \u001b[0;36mplot1d\u001b[0;34m(hist, ax, clear, overlay, stack, overflow, line_opts, fill_opts, error_opts, overlay_overflow, density, binwnorm)\u001b[0m\n\u001b[1;32m    116\u001b[0m                 \u001b[0msumw\u001b[0m\u001b[0;34m,\u001b[0m \u001b[0msumw2\u001b[0m \u001b[0;34m=\u001b[0m \u001b[0mhist\u001b[0m\u001b[0;34m.\u001b[0m\u001b[0mvalues\u001b[0m\u001b[0;34m(\u001b[0m\u001b[0msumw2\u001b[0m\u001b[0;34m=\u001b[0m\u001b[0;32mTrue\u001b[0m\u001b[0;34m,\u001b[0m \u001b[0moverflow\u001b[0m\u001b[0;34m=\u001b[0m\u001b[0moverflow\u001b[0m\u001b[0;34m)\u001b[0m\u001b[0;34m[\u001b[0m\u001b[0;34m(\u001b[0m\u001b[0;34m)\u001b[0m\u001b[0;34m]\u001b[0m\u001b[0;34m\u001b[0m\u001b[0;34m\u001b[0m\u001b[0m\n\u001b[1;32m    117\u001b[0m             \u001b[0;32melif\u001b[0m \u001b[0misinstance\u001b[0m\u001b[0;34m(\u001b[0m\u001b[0moverlay\u001b[0m\u001b[0;34m,\u001b[0m \u001b[0mSparseAxis\u001b[0m\u001b[0;34m)\u001b[0m\u001b[0;34m:\u001b[0m\u001b[0;34m\u001b[0m\u001b[0;34m\u001b[0m\u001b[0m\n\u001b[0;32m--> 118\u001b[0;31m                 \u001b[0msumw\u001b[0m\u001b[0;34m,\u001b[0m \u001b[0msumw2\u001b[0m \u001b[0;34m=\u001b[0m \u001b[0mhist\u001b[0m\u001b[0;34m.\u001b[0m\u001b[0mproject\u001b[0m\u001b[0;34m(\u001b[0m\u001b[0moverlay\u001b[0m\u001b[0;34m,\u001b[0m \u001b[0midentifier\u001b[0m\u001b[0;34m)\u001b[0m\u001b[0;34m.\u001b[0m\u001b[0mvalues\u001b[0m\u001b[0;34m(\u001b[0m\u001b[0msumw2\u001b[0m\u001b[0;34m=\u001b[0m\u001b[0;32mTrue\u001b[0m\u001b[0;34m,\u001b[0m \u001b[0moverflow\u001b[0m\u001b[0;34m=\u001b[0m\u001b[0moverflow\u001b[0m\u001b[0;34m)\u001b[0m\u001b[0;34m[\u001b[0m\u001b[0;34m(\u001b[0m\u001b[0;34m)\u001b[0m\u001b[0;34m]\u001b[0m\u001b[0;34m\u001b[0m\u001b[0;34m\u001b[0m\u001b[0m\n\u001b[0m\u001b[1;32m    119\u001b[0m             \u001b[0;32melse\u001b[0m\u001b[0;34m:\u001b[0m\u001b[0;34m\u001b[0m\u001b[0;34m\u001b[0m\u001b[0m\n\u001b[1;32m    120\u001b[0m                 \u001b[0msumw\u001b[0m\u001b[0;34m,\u001b[0m \u001b[0msumw2\u001b[0m \u001b[0;34m=\u001b[0m \u001b[0mhist\u001b[0m\u001b[0;34m.\u001b[0m\u001b[0mvalues\u001b[0m\u001b[0;34m(\u001b[0m\u001b[0msumw2\u001b[0m\u001b[0;34m=\u001b[0m\u001b[0;32mTrue\u001b[0m\u001b[0;34m,\u001b[0m \u001b[0moverflow\u001b[0m\u001b[0;34m=\u001b[0m\u001b[0;34m'allnan'\u001b[0m\u001b[0;34m)\u001b[0m\u001b[0;34m[\u001b[0m\u001b[0;34m(\u001b[0m\u001b[0;34m)\u001b[0m\u001b[0;34m]\u001b[0m\u001b[0;34m\u001b[0m\u001b[0;34m\u001b[0m\u001b[0m\n",
      "\u001b[0;31mKeyError\u001b[0m: ()"
     ]
    },
    {
     "data": {
      "image/png": "[encoded data removed]",
      "text/plain": [
       "<Figure size 720x720 with 1 Axes>"
      ]
     },
     "metadata": {
      "needs_background": "light"
     },
     "output_type": "display_data"
    }
   ],
   "source": [
    "from cycler import cycler\n",
    "\n",
    "%matplotlib inline\n",
    "from fnal_column_analysis_tools import hist\n",
    "from fnal_column_analysis_tools.hist import plot\n",
    "\n",
    "\n",
    "fill_opts = {'edgecolor': (0,0,0,0.3), 'alpha': 0.8}\n",
    "error_opts = {'label':'Stat. Unc.', 'hatch':'///', 'facecolor':'none', 'edgecolor':(0,0,0,.5), 'linewidth': 0}\n",
    "nostack_fill_opts = {'alpha': 0.2, 'label': '_nolabel_'}\n",
    "data_err_opts = {'linestyle':'none', 'marker': '.', 'markersize': 10., 'color':'k', 'elinewidth': 1, 'emarker': '_'}\n",
    "colors = ['#a6cee3','#1f78b4','#b2df8a','#33a02c','#fb9a99','#e31a1c']\n",
    "\n",
    "fig, ax = plt.subplots(1, 1, figsize=(10,10))\n",
    "ax.set_prop_cycle(cycler(color=colors))\n",
    "plot.plot1d(hists['recoil'], ax=ax, overlay=\"process\", clear=False, stack=True, line_opts=None, fill_opts=fill_opts, error_opts=error_opts)\n",
    "\n",
    "ax.autoscale(axis='x', tight=True)\n",
    "ax.set_ylim(0, None)\n",
    "#leg = ax.legend()\n",
    "coffee = plt.text(0., 1., u\"☕\", fontsize=28, horizontalalignment='left', verticalalignment='bottom', transform=ax.transAxes)\n",
    "lumi = plt.text(1., 1., r\"1 fb$^{-1}$ (13 TeV)\", fontsize=16, horizontalalignment='right', verticalalignment='bottom', transform=ax.transAxes)"
   ]
  },
  {
   "cell_type": "code",
   "execution_count": 10,
   "metadata": {},
   "outputs": [
    {
     "name": "stdout",
     "output_type": "stream",
     "text": [
      "Now 0.0M bins\n",
      "Nonzero bins: 4.2%\n"
     ]
    }
   ],
   "source": [
    "nbins = sum(sum(arr.size for arr in h._sumw.values()) for h in hists.values())\n",
    "nfilled = sum(sum(np.sum(arr>0) for arr in h._sumw.values()) for h in hists.values())\n",
    "print(\"Now %.1fM bins\" % (nbins/1e6, ))\n",
    "print(\"Nonzero bins: %.1f%%\" % (100*nfilled/nbins, ))"
   ]
  },
  {
   "cell_type": "code",
   "execution_count": null,
   "metadata": {},
   "outputs": [],
   "source": []
  }
 ],
 "metadata": {
  "kernelspec": {
   "display_name": "Python 3",
   "language": "python",
   "name": "python3"
  },
  "language_info": {
   "codemirror_mode": {
    "name": "ipython",
    "version": 3
   },
   "file_extension": ".py",
   "mimetype": "text/x-python",
   "name": "python",
   "nbconvert_exporter": "python",
   "pygments_lexer": "ipython3",
   "version": "3.7.1"
  }
 },
 "nbformat": 4,
 "nbformat_minor": 2
}
