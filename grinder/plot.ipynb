{
 "cells": [
  {
   "cell_type": "code",
   "execution_count": 2,
   "metadata": {},
   "outputs": [],
   "source": [
    "from __future__ import print_function, division\n",
    "from collections import defaultdict, OrderedDict\n",
    "import gzip\n",
    "import pickle\n",
    "import json\n",
    "import os\n",
    "import uproot\n",
    "import matplotlib.pyplot as plt\n",
    "%matplotlib inline\n",
    "import numpy as np\n",
    "from fnal_column_analysis_tools import hist\n",
    "from fnal_column_analysis_tools.hist import plot\n"
   ]
  },
  {
   "cell_type": "code",
   "execution_count": 3,
   "metadata": {},
   "outputs": [
    {
     "name": "stdout",
     "output_type": "stream",
     "text": [
      "ZJetsToNuNu_HT-100To200_13TeV-madgraph.pkl.gz\n",
      "ZJetsToNuNu_HT-600To800_13TeV-madgraph.pkl.gz\n",
      "ZJetsToNuNu_HT-2500ToInf_13TeV-madgraph.pkl.gz\n",
      "ZJetsToNuNu_HT-1200To2500_13TeV-madgraph.pkl.gz\n",
      "ZJetsToNuNu_HT-400To600_13TeV-madgraph.pkl.gz\n",
      "ZJetsToNuNu_HT-800To1200_13TeV-madgraph.pkl.gz\n",
      "ZJetsToNuNu_HT-200To400_13TeV-madgraph.pkl.gz\n",
      "{('ZJetsToNuNu_HT-100To200_13TeV-madgraph',): (array([0., 0., 0., 0., 0., 0., 0., 0., 0., 0., 0., 0., 0., 0., 0., 0., 0.,\n",
      "       0., 0., 0., 0.]), array([0., 0., 0., 0., 0., 0., 0., 0., 0., 0., 0., 0., 0., 0., 0., 0., 0.,\n",
      "       0., 0., 0., 0.])), ('ZJetsToNuNu_HT-600To800_13TeV-madgraph',): (array([29160.11017229, 14601.80137215, 14558.59991508,  7092.54972368,\n",
      "       11548.00565392,    64.97685456, 17443.14140732,  8708.64520034,\n",
      "        5821.89123455,  8770.24512159, 11683.60699287, 14416.36115551,\n",
      "        2864.97856829,  2890.77135195,     0.        ,     0.        ,\n",
      "           0.        ,     0.        ,     0.        ,     0.        ,\n",
      "           0.        ]), array([1697.78874332,  850.16050541,  847.64518749,  412.94943713,\n",
      "        672.35939409,    3.78314662, 1015.59181205,  507.0433446 ,\n",
      "        338.96790322,  510.62987607,  680.25450921,  839.36362191,\n",
      "        166.80761267,  168.3093456 ,    0.        ,    0.        ,\n",
      "          0.        ,    0.        ,    0.        ,    0.        ,\n",
      "          0.        ])), ('ZJetsToNuNu_HT-2500ToInf_13TeV-madgraph',): (array([ 7.93512746,  0.        , 15.86040946, 15.79403196,  0.        ,\n",
      "        0.        ,  0.        ,  0.        ,  0.        ,  0.        ,\n",
      "        0.        ,  0.        ,  7.87796024,  0.        ,  0.        ,\n",
      "       15.80895896,  0.        ,  0.        ,  0.        ,  0.        ,\n",
      "        0.        ]), array([0.00126008, 0.        , 0.0025186 , 0.00250806, 0.        ,\n",
      "       0.        , 0.        , 0.        , 0.        , 0.        ,\n",
      "       0.        , 0.        , 0.001251  , 0.        , 0.        ,\n",
      "       0.00251043, 0.        , 0.        , 0.        , 0.        ,\n",
      "       0.        ])), ('ZJetsToNuNu_HT-1200To2500_13TeV-madgraph',): (array([753.95309111, 144.18288911, 378.05916784,   0.        ,\n",
      "       144.18288911,   0.        ,   0.        , 370.53307638,\n",
      "         1.46340667,   0.        ,   0.        ,   0.        ,\n",
      "         0.        ,   1.53807028,   0.        ,   0.        ,\n",
      "         3.22546777,   0.        ,   0.        , 370.53307638,\n",
      "         0.        ]), array([5.62928564, 1.07652144, 2.82272607, 0.        , 1.07652144,\n",
      "       0.        , 0.        , 2.76653355, 0.01092632, 0.        ,\n",
      "       0.        , 0.        , 0.        , 0.01148379, 0.        ,\n",
      "       0.        , 0.02408251, 0.        , 0.        , 2.76653355,\n",
      "       0.        ])), ('ZJetsToNuNu_HT-400To600_13TeV-madgraph',): (array([1.75992404e+05, 1.58181453e+05, 1.64176900e+04, 2.52541551e+05,\n",
      "       1.73768025e+05, 3.29486999e+04, 1.12426656e+05, 4.73540078e+04,\n",
      "       1.32100381e+02, 1.55633348e+04, 0.00000000e+00, 0.00000000e+00,\n",
      "       0.00000000e+00, 0.00000000e+00, 0.00000000e+00, 0.00000000e+00,\n",
      "       0.00000000e+00, 0.00000000e+00, 0.00000000e+00, 0.00000000e+00,\n",
      "       0.00000000e+00]), array([5.60208763e+04, 5.03513982e+04, 5.22598340e+03, 8.03875546e+04,\n",
      "       5.53128248e+04, 1.04880381e+04, 3.57869977e+04, 1.50734518e+04,\n",
      "       4.20494234e+01, 4.95403002e+03, 0.00000000e+00, 0.00000000e+00,\n",
      "       0.00000000e+00, 0.00000000e+00, 0.00000000e+00, 0.00000000e+00,\n",
      "       0.00000000e+00, 0.00000000e+00, 0.00000000e+00, 0.00000000e+00,\n",
      "       0.00000000e+00])), ('ZJetsToNuNu_HT-800To1200_13TeV-madgraph',): (array([2.69218000e+03, 2.71289801e+03, 2.68477878e+03, 1.36433644e+03,\n",
      "       0.00000000e+00, 6.32074929e+00, 1.34810237e+03, 1.35828580e+03,\n",
      "       6.69102634e+03, 1.35639498e+03, 5.33957451e+03, 0.00000000e+00,\n",
      "       0.00000000e+00, 0.00000000e+00, 0.00000000e+00, 4.03974214e+03,\n",
      "       0.00000000e+00, 0.00000000e+00, 0.00000000e+00, 0.00000000e+00,\n",
      "       0.00000000e+00]), array([7.27204906e+01, 7.32801203e+01, 7.25205707e+01, 3.68531135e+01,\n",
      "       0.00000000e+00, 1.70734494e-01, 3.64146031e+01, 3.66896753e+01,\n",
      "       1.80736325e+02, 3.66386009e+01, 1.44231247e+02, 0.00000000e+00,\n",
      "       0.00000000e+00, 0.00000000e+00, 0.00000000e+00, 1.09120501e+02,\n",
      "       0.00000000e+00, 0.00000000e+00, 0.00000000e+00, 0.00000000e+00,\n",
      "       0.00000000e+00])), ('ZJetsToNuNu_HT-200To400_13TeV-madgraph',): (array([561580.05861583,  14517.88065775, 116703.66777738,   1576.47051319,\n",
      "       110781.25152512,      0.        ,      0.        ,      0.        ,\n",
      "            0.        ,      0.        ,      0.        ,      0.        ,\n",
      "            0.        ,      0.        ,      0.        ,      0.        ,\n",
      "            0.        ,      0.        ,      0.        ,      0.        ,\n",
      "            0.        ]), array([1259337.70014798,   32556.20308816,  261706.81512417,\n",
      "          3535.21945798,  248425.85553878,       0.        ,\n",
      "             0.        ,       0.        ,       0.        ,\n",
      "             0.        ,       0.        ,       0.        ,\n",
      "             0.        ,       0.        ,       0.        ,\n",
      "             0.        ,       0.        ,       0.        ,\n",
      "             0.        ,       0.        ,       0.        ]))}\n",
      "['ZJetsToNuNu_HT-100To200_13TeV-madgraph', 'ZJetsToNuNu_HT-1200To2500_13TeV-madgraph', 'ZJetsToNuNu_HT-200To400_13TeV-madgraph', 'ZJetsToNuNu_HT-2500ToInf_13TeV-madgraph', 'ZJetsToNuNu_HT-400To600_13TeV-madgraph', 'ZJetsToNuNu_HT-600To800_13TeV-madgraph', 'ZJetsToNuNu_HT-800To1200_13TeV-madgraph']\n"
     ]
    }
   ],
   "source": [
    "hists={}\n",
    "for filename in os.listdir('hists'):\n",
    "    print(filename)\n",
    "    with gzip.open('hists/'+filename) as fin:\n",
    "        hin = pickle.load(fin)\n",
    "        for k in hin.keys():\n",
    "            if k in hists: hists[k]+=hin[k]\n",
    "            else: hists[k]=hin[k]\n",
    "        \n",
    "print(hists['recoil'].values(sumw2=True))\n",
    "print(hists['recoil'].identifiers(\"dataset\"))"
   ]
  },
  {
   "cell_type": "code",
   "execution_count": 4,
   "metadata": {},
   "outputs": [
    {
     "name": "stdout",
     "output_type": "stream",
     "text": [
      "{('Z+jets',): (array([7.70186641e+05, 1.90158216e+05, 1.50758656e+05, 2.62590702e+05,\n",
      "       2.96241465e+05, 3.30199975e+04, 1.31217899e+05, 5.77914718e+04,\n",
      "       1.26464814e+04, 2.56899749e+04, 1.70231815e+04, 1.44163612e+04,\n",
      "       2.87285653e+03, 2.89230942e+03, 0.00000000e+00, 4.05555109e+03,\n",
      "       3.22546777e+00, 0.00000000e+00, 0.00000000e+00, 3.70533076e+02,\n",
      "       0.00000000e+00]), array([1.31713472e+06, 8.38321184e+04, 2.67855790e+05, 8.43725791e+04,\n",
      "       3.04412116e+05, 1.04919920e+04, 3.68390042e+04, 1.56199513e+04,\n",
      "       5.61764578e+02, 5.50129850e+03, 8.24485756e+02, 8.39363622e+02,\n",
      "       1.66808864e+02, 1.68320829e+02, 0.00000000e+00, 1.09123011e+02,\n",
      "       2.40825054e-02, 0.00000000e+00, 0.00000000e+00, 2.76653355e+00,\n",
      "       0.00000000e+00]))}\n",
      "['Z+jets']\n",
      "<Hist (process,recoil) instance at 0x11e42e5f8>\n"
     ]
    }
   ],
   "source": [
    "process = hist.Cat(\"process\", \"Process\", sorting='placement')\n",
    "process_cats = (\"dataset\",)\n",
    "process_map = OrderedDict()\n",
    "#process_map[\"Hcc\"] = (\"GluGluHToCC\", 2)\n",
    "#process_map[\"Hbb\"] = (\"GluGluHToBB\", 3)\n",
    "process_map[\"Z+jets\"] = (\"ZJets*\",)\n",
    "#process_map[\"Zcc\"] = (\"ZJetsToQQ_HT*\", 2)\n",
    "#process_map[\"Zbb\"] = (\"ZJetsToQQ_HT*\", 3)\n",
    "#process_map[\"Wqq\"] = (\"WJetsToQQ_HT*\", 1)\n",
    "#process_map[\"Wcs\"] = (\"WJetsToQQ_HT*\", 2)\n",
    "#process_map[\"Top\"] = (\"TTTo*\", slice(None))\n",
    "#process_map[\"QCD\"] = (\"QCD*\", slice(None))\n",
    "\n",
    "\n",
    "for key in hists.keys():\n",
    "    hists[key] = hists[key].group(process, process_cats, process_map)\n",
    "\n",
    "print(hists['recoil'].values(sumw2=True))\n",
    "print(hists['recoil'].identifiers(\"process\"))\n",
    "print(hists['recoil'])"
   ]
  },
  {
   "cell_type": "code",
   "execution_count": 10,
   "metadata": {},
   "outputs": [
    {
     "name": "stdout",
     "output_type": "stream",
     "text": [
      "<Hist (process,recoil) instance at 0x11e42e5f8> {('Z+jets',): (array([7.70186641e+05, 1.90158216e+05, 1.50758656e+05, 2.62590702e+05,\n",
      "       2.96241465e+05, 3.30199975e+04, 1.31217899e+05, 5.77914718e+04,\n",
      "       1.26464814e+04, 2.56899749e+04, 1.70231815e+04, 1.44163612e+04,\n",
      "       2.87285653e+03, 2.89230942e+03, 0.00000000e+00, 4.05555109e+03,\n",
      "       3.22546777e+00, 0.00000000e+00, 0.00000000e+00, 3.70533076e+02,\n",
      "       0.00000000e+00]), array([1.31713472e+06, 8.38321184e+04, 2.67855790e+05, 8.43725791e+04,\n",
      "       3.04412116e+05, 1.04919920e+04, 3.68390042e+04, 1.56199513e+04,\n",
      "       5.61764578e+02, 5.50129850e+03, 8.24485756e+02, 8.39363622e+02,\n",
      "       1.66808864e+02, 1.68320829e+02, 0.00000000e+00, 1.09123011e+02,\n",
      "       2.40825054e-02, 0.00000000e+00, 0.00000000e+00, 2.76653355e+00,\n",
      "       0.00000000e+00]))}\n",
      "True\n",
      "{}\n"
     ]
    },
    {
     "ename": "KeyError",
     "evalue": "()",
     "output_type": "error",
     "traceback": [
      "\u001b[0;31m---------------------------------------------------------------------------\u001b[0m",
      "\u001b[0;31mKeyError\u001b[0m                                  Traceback (most recent call last)",
      "\u001b[0;32m<ipython-input-10-1a86b9a69c51>\u001b[0m in \u001b[0;36m<module>\u001b[0;34m\u001b[0m\n\u001b[1;32m     18\u001b[0m \u001b[0mprint\u001b[0m\u001b[0;34m(\u001b[0m\u001b[0mto_plot\u001b[0m\u001b[0;34m.\u001b[0m\u001b[0mvalues\u001b[0m\u001b[0;34m(\u001b[0m\u001b[0msumw2\u001b[0m\u001b[0;34m=\u001b[0m\u001b[0;32mTrue\u001b[0m\u001b[0;34m)\u001b[0m\u001b[0;34m)\u001b[0m\u001b[0;34m\u001b[0m\u001b[0;34m\u001b[0m\u001b[0m\n\u001b[1;32m     19\u001b[0m \u001b[0;34m\u001b[0m\u001b[0m\n\u001b[0;32m---> 20\u001b[0;31m \u001b[0mplot\u001b[0m\u001b[0;34m.\u001b[0m\u001b[0mplot1d\u001b[0m\u001b[0;34m(\u001b[0m\u001b[0mto_plot\u001b[0m\u001b[0;34m,\u001b[0m \u001b[0max\u001b[0m\u001b[0;34m=\u001b[0m\u001b[0max\u001b[0m\u001b[0;34m)\u001b[0m\u001b[0;31m#, clear=False, stack=True, line_opts=None, fill_opts=fill_opts, error_opts=error_opts)\u001b[0m\u001b[0;34m\u001b[0m\u001b[0;34m\u001b[0m\u001b[0m\n\u001b[0m\u001b[1;32m     21\u001b[0m \u001b[0;34m\u001b[0m\u001b[0m\n\u001b[1;32m     22\u001b[0m \u001b[0max\u001b[0m\u001b[0;34m.\u001b[0m\u001b[0mautoscale\u001b[0m\u001b[0;34m(\u001b[0m\u001b[0maxis\u001b[0m\u001b[0;34m=\u001b[0m\u001b[0;34m'x'\u001b[0m\u001b[0;34m,\u001b[0m \u001b[0mtight\u001b[0m\u001b[0;34m=\u001b[0m\u001b[0;32mTrue\u001b[0m\u001b[0;34m)\u001b[0m\u001b[0;34m\u001b[0m\u001b[0;34m\u001b[0m\u001b[0m\n",
      "\u001b[0;32m~/miniconda3/lib/python3.7/site-packages/fnal_column_analysis_tools/hist/plot.py\u001b[0m in \u001b[0;36mplot1d\u001b[0;34m(hist, ax, clear, overlay, stack, overflow, line_opts, fill_opts, error_opts, overlay_overflow, density, binwnorm)\u001b[0m\n\u001b[1;32m    114\u001b[0m         \u001b[0;32mfor\u001b[0m \u001b[0mi\u001b[0m\u001b[0;34m,\u001b[0m \u001b[0midentifier\u001b[0m \u001b[0;32min\u001b[0m \u001b[0menumerate\u001b[0m\u001b[0;34m(\u001b[0m\u001b[0midentifiers\u001b[0m\u001b[0;34m)\u001b[0m\u001b[0;34m:\u001b[0m\u001b[0;34m\u001b[0m\u001b[0;34m\u001b[0m\u001b[0m\n\u001b[1;32m    115\u001b[0m             \u001b[0;32mif\u001b[0m \u001b[0midentifier\u001b[0m \u001b[0;32mis\u001b[0m \u001b[0;32mNone\u001b[0m\u001b[0;34m:\u001b[0m\u001b[0;34m\u001b[0m\u001b[0;34m\u001b[0m\u001b[0m\n\u001b[0;32m--> 116\u001b[0;31m                 \u001b[0msumw\u001b[0m\u001b[0;34m,\u001b[0m \u001b[0msumw2\u001b[0m \u001b[0;34m=\u001b[0m \u001b[0mhist\u001b[0m\u001b[0;34m.\u001b[0m\u001b[0mvalues\u001b[0m\u001b[0;34m(\u001b[0m\u001b[0msumw2\u001b[0m\u001b[0;34m=\u001b[0m\u001b[0;32mTrue\u001b[0m\u001b[0;34m,\u001b[0m \u001b[0moverflow\u001b[0m\u001b[0;34m=\u001b[0m\u001b[0moverflow\u001b[0m\u001b[0;34m)\u001b[0m\u001b[0;34m[\u001b[0m\u001b[0;34m(\u001b[0m\u001b[0;34m)\u001b[0m\u001b[0;34m]\u001b[0m\u001b[0;34m\u001b[0m\u001b[0;34m\u001b[0m\u001b[0m\n\u001b[0m\u001b[1;32m    117\u001b[0m             \u001b[0;32melif\u001b[0m \u001b[0misinstance\u001b[0m\u001b[0;34m(\u001b[0m\u001b[0moverlay\u001b[0m\u001b[0;34m,\u001b[0m \u001b[0mSparseAxis\u001b[0m\u001b[0;34m)\u001b[0m\u001b[0;34m:\u001b[0m\u001b[0;34m\u001b[0m\u001b[0;34m\u001b[0m\u001b[0m\n\u001b[1;32m    118\u001b[0m                 \u001b[0msumw\u001b[0m\u001b[0;34m,\u001b[0m \u001b[0msumw2\u001b[0m \u001b[0;34m=\u001b[0m \u001b[0mhist\u001b[0m\u001b[0;34m.\u001b[0m\u001b[0mproject\u001b[0m\u001b[0;34m(\u001b[0m\u001b[0moverlay\u001b[0m\u001b[0;34m,\u001b[0m \u001b[0midentifier\u001b[0m\u001b[0;34m)\u001b[0m\u001b[0;34m.\u001b[0m\u001b[0mvalues\u001b[0m\u001b[0;34m(\u001b[0m\u001b[0msumw2\u001b[0m\u001b[0;34m=\u001b[0m\u001b[0;32mTrue\u001b[0m\u001b[0;34m,\u001b[0m \u001b[0moverflow\u001b[0m\u001b[0;34m=\u001b[0m\u001b[0moverflow\u001b[0m\u001b[0;34m)\u001b[0m\u001b[0;34m[\u001b[0m\u001b[0;34m(\u001b[0m\u001b[0;34m)\u001b[0m\u001b[0;34m]\u001b[0m\u001b[0;34m\u001b[0m\u001b[0;34m\u001b[0m\u001b[0m\n",
      "\u001b[0;31mKeyError\u001b[0m: ()"
     ]
    },
    {
     "data": {
      "image/png": "[encoded data removed]",
      "text/plain": [
       "<Figure size 720x720 with 1 Axes>"
      ]
     },
     "metadata": {
      "needs_background": "light"
     },
     "output_type": "display_data"
    }
   ],
   "source": [
    "from cycler import cycler\n",
    "\n",
    "fill_opts = {'edgecolor': (0,0,0,0.3), 'alpha': 0.8}\n",
    "error_opts = {'label':'Stat. Unc.', 'hatch':'///', 'facecolor':'none', 'edgecolor':(0,0,0,.5), 'linewidth': 0}\n",
    "nostack_fill_opts = {'alpha': 0.2, 'label': '_nolabel_'}\n",
    "data_err_opts = {'linestyle':'none', 'marker': '.', 'markersize': 10., 'color':'k', 'elinewidth': 1, 'emarker': '_'}\n",
    "colors = ['#a6cee3','#1f78b4','#b2df8a','#33a02c','#fb9a99','#e31a1c']\n",
    "\n",
    "fig, ax = plt.subplots(1, 1, figsize=(10,10))\n",
    "ax.set_prop_cycle(cycler(color=colors))\n",
    "#overlay=\"process\",\n",
    "\n",
    "\n",
    "print(hists['recoil'],hists['recoil'].values(sumw2=True))\n",
    "\n",
    "print(hists['recoil'].identifiers(\"process\")[0] == \"Z+jets\")\n",
    "to_plot = hists['recoil'].project(\"process\",\"Z+jets\")\n",
    "print(to_plot.values(sumw2=True))\n",
    "\n",
    "plot.plot1d(to_plot, ax=ax)#, clear=False, stack=True, line_opts=None, fill_opts=fill_opts, error_opts=error_opts)\n",
    "\n",
    "ax.autoscale(axis='x', tight=True)\n",
    "ax.set_ylim(0, None)\n",
    "#leg = ax.legend()\n",
    "coffee = plt.text(0., 1., u\"☕\", fontsize=28, horizontalalignment='left', verticalalignment='bottom', transform=ax.transAxes)\n",
    "lumi = plt.text(1., 1., r\"1 fb$^{-1}$ (13 TeV)\", fontsize=16, horizontalalignment='right', verticalalignment='bottom', transform=ax.transAxes)"
   ]
  },
  {
   "cell_type": "code",
   "execution_count": null,
   "metadata": {},
   "outputs": [],
   "source": [
    "nbins = sum(sum(arr.size for arr in h._sumw.values()) for h in hists.values())\n",
    "nfilled = sum(sum(np.sum(arr>0) for arr in h._sumw.values()) for h in hists.values())\n",
    "print(\"Now %.1fM bins\" % (nbins/1e6, ))\n",
    "print(\"Nonzero bins: %.1f%%\" % (100*nfilled/nbins, ))"
   ]
  },
  {
   "cell_type": "code",
   "execution_count": 22,
   "metadata": {},
   "outputs": [
    {
     "data": {
      "text/plain": [
       "b'\\x80\\x03cfnal_column_analysis_tools.hist.hist_tools\\nHist\\nq\\x00)\\x81q\\x01}q\\x02(X\\x06\\x00\\x00\\x00_labelq\\x03X\\x06\\x00\\x00\\x00Eventsq\\x04X\\x06\\x00\\x00\\x00_dtypeq\\x05X\\x01\\x00\\x00\\x00dq\\x06X\\x05\\x00\\x00\\x00_axesq\\x07cfnal_column_analysis_tools.hist.hist_tools\\nCat\\nq\\x08)\\x81q\\t}q\\n(X\\x05\\x00\\x00\\x00_nameq\\x0bX\\x07\\x00\\x00\\x00processq\\x0ch\\x03X\\x07\\x00\\x00\\x00Processq\\rX\\x0b\\x00\\x00\\x00_categoriesq\\x0e]q\\x0fX\\x06\\x00\\x00\\x00Z+jetsq\\x10aX\\x08\\x00\\x00\\x00_sortingq\\x11X\\t\\x00\\x00\\x00placementq\\x12ubcfnal_column_analysis_tools.hist.hist_tools\\nBin\\nq\\x13)\\x81q\\x14}q\\x15(h\\x0bX\\x06\\x00\\x00\\x00recoilq\\x16h\\x03X\\x0f\\x00\\x00\\x00Hadronic Recoilq\\x17X\\x08\\x00\\x00\\x00_uniformq\\x18\\x89X\\x05\\x00\\x00\\x00_binsq\\x19cnumpy.core._multiarray_umath\\n_reconstruct\\nq\\x1acnumpy\\nndarray\\nq\\x1bK\\x00\\x85q\\x1cC\\x01bq\\x1d\\x87q\\x1eRq\\x1f(K\\x01K\\x17\\x85q cnumpy\\ndtype\\nq!X\\x02\\x00\\x00\\x00f8q\"K\\x00K\\x01\\x87q#Rq$(K\\x03X\\x01\\x00\\x00\\x00<q%NNNJ\\xff\\xff\\xff\\xffJ\\xff\\xff\\xff\\xffK\\x00tq&b\\x89C\\xb8\\x00\\x00\\x00\\x00\\x00@o@\\x00\\x00\\x00\\x00\\x00\\x80q@\\x00\\x00\\x00\\x00\\x00`s@\\x00\\x00\\x00\\x00\\x00@u@\\x00\\x00\\x00\\x00\\x00 w@\\x00\\x00\\x00\\x00\\x00\\x00y@\\x00\\x00\\x00\\x00\\x00\\xe0z@\\x00\\x00\\x00\\x00\\x00`}@\\x00\\x00\\x00\\x00\\x00\\xe0\\x7f@\\x00\\x00\\x00\\x00\\x000\\x81@\\x00\\x00\\x00\\x00\\x00p\\x82@\\x00\\x00\\x00\\x00\\x00\\x00\\x84@\\x00\\x00\\x00\\x00\\x00\\x90\\x85@\\x00\\x00\\x00\\x00\\x00 \\x87@\\x00\\x00\\x00\\x00\\x00\\xb0\\x88@\\x00\\x00\\x00\\x00\\x00@\\x8a@\\x00\\x00\\x00\\x00\\x00 \\x8c@\\x00\\x00\\x00\\x00\\x00\\x00\\x8e@\\x00\\x00\\x00\\x00\\x00\\xe0\\x8f@\\x00\\x00\\x00\\x00\\x00\\x08\\x91@\\x00\\x00\\x00\\x00\\x00 \\x92@\\x00\\x00\\x00\\x00\\x00\\x88\\x93@\\x00\\x00\\x00\\x00\\x00\\x00\\xf0\\x7fq\\'tq(bX\\x03\\x00\\x00\\x00_loq)cnumpy.core._multiarray_umath\\nscalar\\nq*h!X\\x02\\x00\\x00\\x00f8q+K\\x00K\\x01\\x87q,Rq-(K\\x03h%NNNJ\\xff\\xff\\xff\\xffJ\\xff\\xff\\xff\\xffK\\x00tq.bC\\x08\\x00\\x00\\x00\\x00\\x00@o@q/\\x86q0Rq1X\\x03\\x00\\x00\\x00_hiq2h*h-C\\x08\\x00\\x00\\x00\\x00\\x00\\x88\\x93@q3\\x86q4Rq5X\\n\\x00\\x00\\x00_intervalsq6]q7(cfnal_column_analysis_tools.hist.hist_tools\\nInterval\\nq8)\\x81q9}q:(h)G\\xff\\xf0\\x00\\x00\\x00\\x00\\x00\\x00h2G@o@\\x00\\x00\\x00\\x00\\x00h\\x03Nubh8)\\x81q;}q<(h)G@o@\\x00\\x00\\x00\\x00\\x00h2G@q\\x80\\x00\\x00\\x00\\x00\\x00h\\x03Nubh8)\\x81q=}q>(h)G@q\\x80\\x00\\x00\\x00\\x00\\x00h2G@s`\\x00\\x00\\x00\\x00\\x00h\\x03Nubh8)\\x81q?}q@(h)G@s`\\x00\\x00\\x00\\x00\\x00h2G@u@\\x00\\x00\\x00\\x00\\x00h\\x03Nubh8)\\x81qA}qB(h)G@u@\\x00\\x00\\x00\\x00\\x00h2G@w \\x00\\x00\\x00\\x00\\x00h\\x03Nubh8)\\x81qC}qD(h)G@w \\x00\\x00\\x00\\x00\\x00h2G@y\\x00\\x00\\x00\\x00\\x00\\x00h\\x03Nubh8)\\x81qE}qF(h)G@y\\x00\\x00\\x00\\x00\\x00\\x00h2G@z\\xe0\\x00\\x00\\x00\\x00\\x00h\\x03Nubh8)\\x81qG}qH(h)G@z\\xe0\\x00\\x00\\x00\\x00\\x00h2G@}`\\x00\\x00\\x00\\x00\\x00h\\x03Nubh8)\\x81qI}qJ(h)G@}`\\x00\\x00\\x00\\x00\\x00h2G@\\x7f\\xe0\\x00\\x00\\x00\\x00\\x00h\\x03Nubh8)\\x81qK}qL(h)G@\\x7f\\xe0\\x00\\x00\\x00\\x00\\x00h2G@\\x810\\x00\\x00\\x00\\x00\\x00h\\x03Nubh8)\\x81qM}qN(h)G@\\x810\\x00\\x00\\x00\\x00\\x00h2G@\\x82p\\x00\\x00\\x00\\x00\\x00h\\x03Nubh8)\\x81qO}qP(h)G@\\x82p\\x00\\x00\\x00\\x00\\x00h2G@\\x84\\x00\\x00\\x00\\x00\\x00\\x00h\\x03Nubh8)\\x81qQ}qR(h)G@\\x84\\x00\\x00\\x00\\x00\\x00\\x00h2G@\\x85\\x90\\x00\\x00\\x00\\x00\\x00h\\x03Nubh8)\\x81qS}qT(h)G@\\x85\\x90\\x00\\x00\\x00\\x00\\x00h2G@\\x87 \\x00\\x00\\x00\\x00\\x00h\\x03Nubh8)\\x81qU}qV(h)G@\\x87 \\x00\\x00\\x00\\x00\\x00h2G@\\x88\\xb0\\x00\\x00\\x00\\x00\\x00h\\x03Nubh8)\\x81qW}qX(h)G@\\x88\\xb0\\x00\\x00\\x00\\x00\\x00h2G@\\x8a@\\x00\\x00\\x00\\x00\\x00h\\x03Nubh8)\\x81qY}qZ(h)G@\\x8a@\\x00\\x00\\x00\\x00\\x00h2G@\\x8c \\x00\\x00\\x00\\x00\\x00h\\x03Nubh8)\\x81q[}q\\\\(h)G@\\x8c \\x00\\x00\\x00\\x00\\x00h2G@\\x8e\\x00\\x00\\x00\\x00\\x00\\x00h\\x03Nubh8)\\x81q]}q^(h)G@\\x8e\\x00\\x00\\x00\\x00\\x00\\x00h2G@\\x8f\\xe0\\x00\\x00\\x00\\x00\\x00h\\x03Nubh8)\\x81q_}q`(h)G@\\x8f\\xe0\\x00\\x00\\x00\\x00\\x00h2G@\\x91\\x08\\x00\\x00\\x00\\x00\\x00h\\x03Nubh8)\\x81qa}qb(h)G@\\x91\\x08\\x00\\x00\\x00\\x00\\x00h2G@\\x92 \\x00\\x00\\x00\\x00\\x00h\\x03Nubh8)\\x81qc}qd(h)G@\\x92 \\x00\\x00\\x00\\x00\\x00h2G@\\x93\\x88\\x00\\x00\\x00\\x00\\x00h\\x03Nubh8)\\x81qe}qf(h)G@\\x93\\x88\\x00\\x00\\x00\\x00\\x00h2G\\x7f\\xf0\\x00\\x00\\x00\\x00\\x00\\x00h\\x03Nubh8)\\x81qg}qh(h)G\\x7f\\xf0\\x00\\x00\\x00\\x00\\x00\\x00h2G\\x7f\\xf8\\x00\\x00\\x00\\x00\\x00\\x00h\\x03Nubeub\\x86qiX\\x0c\\x00\\x00\\x00_dense_shapeqjK\\x18\\x85qkX\\x05\\x00\\x00\\x00_sumwql}qmh\\x10\\x85qnh\\x1ah\\x1bK\\x00\\x85qoh\\x1d\\x87qpRqq(K\\x01K\\x18\\x85qrh!X\\x02\\x00\\x00\\x00f8qsK\\x00K\\x01\\x87qtRqu(K\\x03h%NNNJ\\xff\\xff\\xff\\xffJ\\xff\\xff\\xff\\xffK\\x00tqvb\\x89C\\xc0\\x0f\\x1a \\xda\\x82z\\xbdA@T:H\\x15\\x81\\'A\\xa1\\xf5\\x05\\xbaq6\\x07A\\xd8\\r\\xa7?5g\\x02A/B\\x8f\\xce\\xfa\\x06\\x10A\\x9c\\x05\\xdb\\xdb\\xc5\\x14\\x12At\\x82\\xa3\\xeb\\x7f\\x1f\\xe0@\\x81\\xdb\\xd51\\x8f\\x04\\x00A\\x9dB;\\x19\\xef7\\xec@\\xd0/r\\x9d=\\xb3\\xc8@ 2\\xbcd~\\x16\\xd9@\\xd4\\xa9\\xcf\\x9d\\xcb\\x9f\\xd0@\\xb6\\x00X:.(\\xcc@\\x1fO\\xe8\\x8a\\xb6q\\xa6@f)\\x97l\\x9e\\x98\\xa6@\\x00\\x00\\x00\\x00\\x00\\x00\\x00\\x00\\xc4\\x9a\\x1c)\\x1a\\xaf\\xaf@HL\\xc1\\x0b\\xc2\\xcd\\t@\\x00\\x00\\x00\\x00\\x00\\x00\\x00\\x00\\x00\\x00\\x00\\x00\\x00\\x00\\x00\\x007\\xa2\\x18{\\x87(w@\\x00\\x00\\x00\\x00\\x00\\x00\\x00\\x00\\x00\\x00\\x00\\x00\\x00\\x00\\x00\\x00\\x00\\x00\\x00\\x00\\x00\\x00\\x00\\x00qwtqxbsX\\x06\\x00\\x00\\x00_sumw2qy}qzhnh\\x1ah\\x1bK\\x00\\x85q{h\\x1d\\x87q|Rq}(K\\x01K\\x18\\x85q~hu\\x89C\\xc0P\\x8d\\x84\\x0cb\\x1e\\xecAA)\\\\\\xb7\\x0e\\x194A\\x80\\xb0\\xee\\xe4\\x81w\\xf4@\\x0e\\xbfz(?Y\\x10A\\xe9$+DI\\x99\\xf4@\\xcd5\\x12wp\\x94\\x12A\\xad\\x86\\xe4\\xf9\\xfe}\\xc4@\\x0e\\xa6\\x03\"\\xe0\\xfc\\xe1@\\xc9\\x9df\\xc4\\xf9\\x81\\xce@\\xee\\x04\\xf7\\xda\\x1d\\x8e\\x81@\\x95\\t\\x92jL}\\xb5@FL.\\xd4\\xe2\\xc3\\x89@JQ\\x9a\\xb2\\xe8:\\x8a@\\xd0\\xc4\\x126\\xe2\\xd9d@\\xab\\x1d\\x00<D\\ne@\\x00\\x00\\x00\\x00\\x00\\x00\\x00\\x00zKDk\\xdfG[@\\xfe\\xa3[\\x94\\x15\\xa9\\x98?\\x00\\x00\\x00\\x00\\x00\\x00\\x00\\x00\\x00\\x00\\x00\\x00\\x00\\x00\\x00\\x00U\\xc8\\x11X\\xdc!\\x06@\\x00\\x00\\x00\\x00\\x00\\x00\\x00\\x00\\x00\\x00\\x00\\x00\\x00\\x00\\x00\\x00\\x00\\x00\\x00\\x00\\x00\\x00\\x00\\x00q\\x7ftq\\x80bsub.'"
      ]
     },
     "execution_count": 22,
     "metadata": {},
     "output_type": "execute_result"
    }
   ],
   "source": [
    "pickle.dumps(hists['recoil'])"
   ]
  },
  {
   "cell_type": "code",
   "execution_count": null,
   "metadata": {},
   "outputs": [],
   "source": []
  }
 ],
 "metadata": {
  "kernelspec": {
   "display_name": "Python 3",
   "language": "python",
   "name": "python3"
  },
  "language_info": {
   "codemirror_mode": {
    "name": "ipython",
    "version": 3
   },
   "file_extension": ".py",
   "mimetype": "text/x-python",
   "name": "python",
   "nbconvert_exporter": "python",
   "pygments_lexer": "ipython3",
   "version": "3.7.1"
  }
 },
 "nbformat": 4,
 "nbformat_minor": 2
}
