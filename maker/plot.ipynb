{
 "cells": [
  {
   "cell_type": "code",
   "execution_count": 2,
   "metadata": {},
   "outputs": [],
   "source": [
    "from __future__ import print_function, division\n",
    "from collections import defaultdict, OrderedDict\n",
    "import gzip\n",
    "import pickle\n",
    "import json\n",
    "import os\n",
    "import uproot\n",
    "import matplotlib.pyplot as plt\n",
    "%matplotlib inline\n",
    "import numpy as np\n",
    "from fnal_column_analysis_tools import hist\n",
    "from fnal_column_analysis_tools.hist import plot\n"
   ]
  },
  {
   "cell_type": "code",
   "execution_count": 3,
   "metadata": {},
   "outputs": [
    {
     "name": "stdout",
     "output_type": "stream",
     "text": [
      "ZJetsToNuNu_HT-100To200_13TeV-madgraph.pkl.gz\n",
      "ZJetsToNuNu_HT-600To800_13TeV-madgraph.pkl.gz\n",
      "ZJetsToNuNu_HT-2500ToInf_13TeV-madgraph.pkl.gz\n",
      "ZJetsToNuNu_HT-1200To2500_13TeV-madgraph.pkl.gz\n",
      "ZJetsToNuNu_HT-400To600_13TeV-madgraph.pkl.gz\n",
      "ZJetsToNuNu_HT-800To1200_13TeV-madgraph.pkl.gz\n",
      "ZJetsToNuNu_HT-200To400_13TeV-madgraph.pkl.gz\n",
      "{('ZJetsToNuNu_HT-100To200_13TeV-madgraph',): (array([3.14678977e+01, 2.74531143e+00, 4.06481191e-01, 7.50426814e-02,\n",
      "       1.87606703e-02, 2.50142271e-02, 0.00000000e+00, 1.25071136e-02,\n",
      "       0.00000000e+00, 0.00000000e+00, 0.00000000e+00, 0.00000000e+00,\n",
      "       0.00000000e+00, 0.00000000e+00, 0.00000000e+00, 0.00000000e+00,\n",
      "       0.00000000e+00, 0.00000000e+00, 0.00000000e+00, 0.00000000e+00,\n",
      "       0.00000000e+00]), array([1.96786285e-01, 1.71679609e-02, 2.54195321e-03, 4.69283669e-04,\n",
      "       1.17320917e-04, 1.56427890e-04, 0.00000000e+00, 7.82139448e-05,\n",
      "       0.00000000e+00, 0.00000000e+00, 0.00000000e+00, 0.00000000e+00,\n",
      "       0.00000000e+00, 0.00000000e+00, 0.00000000e+00, 0.00000000e+00,\n",
      "       0.00000000e+00, 0.00000000e+00, 0.00000000e+00, 0.00000000e+00,\n",
      "       0.00000000e+00])), ('ZJetsToNuNu_HT-600To800_13TeV-madgraph',): (array([2.18060279e+00, 1.74228978e+00, 1.40456145e+00, 1.18544969e+00,\n",
      "       9.99314308e-01, 8.64768856e-01, 1.02960605e+00, 9.48440288e-01,\n",
      "       9.35509249e-01, 9.77031756e-01, 1.18289927e+00, 8.57565059e-01,\n",
      "       4.90842570e-01, 2.29939833e-01, 6.95770462e-02, 1.18124374e-02,\n",
      "       8.50137542e-04, 8.94881623e-05, 0.00000000e+00, 0.00000000e+00,\n",
      "       0.00000000e+00]), array([4.87845342e-05, 3.89785776e-05, 3.14229058e-05, 2.65209285e-05,\n",
      "       2.23567003e-05, 1.93466439e-05, 2.30343884e-05, 2.12185446e-05,\n",
      "       2.09292509e-05, 2.18581941e-05, 2.64638705e-05, 1.91854803e-05,\n",
      "       1.09811499e-05, 5.14422327e-06, 1.55658050e-06, 2.64268329e-07,\n",
      "       1.90193116e-08, 2.00203280e-09, 0.00000000e+00, 0.00000000e+00,\n",
      "       0.00000000e+00])), ('ZJetsToNuNu_HT-2500ToInf_13TeV-madgraph',): (array([4.11883019e-04, 3.49277721e-04, 2.96224334e-04, 2.49845777e-04,\n",
      "       2.12673881e-04, 1.84248314e-04, 2.02431470e-04, 1.68712072e-04,\n",
      "       1.40516671e-04, 1.11630771e-04, 1.17269851e-04, 9.95470276e-05,\n",
      "       8.21694540e-05, 6.32957979e-05, 5.65058850e-05, 5.71963847e-05,\n",
      "       4.06243939e-05, 3.52154803e-05, 3.08423161e-05, 2.73898180e-05,\n",
      "       2.62389853e-05]), array([2.37004221e-11, 2.00980110e-11, 1.70452324e-11, 1.43765344e-11,\n",
      "       1.22376027e-11, 1.06019491e-11, 1.16482377e-11, 9.70796839e-12,\n",
      "       8.08555894e-12, 6.42341701e-12, 6.74789890e-12, 5.72809867e-12,\n",
      "       4.72816469e-12, 3.64214367e-12, 3.25144098e-12, 3.29117346e-12,\n",
      "       2.33759403e-12, 2.02635629e-12, 1.77471728e-12, 1.57605490e-12,\n",
      "       1.50983410e-12])), ('ZJetsToNuNu_HT-1200To2500_13TeV-madgraph',): (array([0.01951911, 0.0160218 , 0.01322586, 0.01063031, 0.00894606,\n",
      "       0.00772463, 0.00870273, 0.0070328 , 0.00564914, 0.00478078,\n",
      "       0.004776  , 0.00394581, 0.00317764, 0.00255738, 0.00232836,\n",
      "       0.00219477, 0.00212797, 0.00175104, 0.00209457, 0.00210888,\n",
      "       0.00291522]), array([4.65651189e-08, 3.82218698e-08, 3.15518234e-08, 2.53598350e-08,\n",
      "       2.13418719e-08, 1.84279950e-08, 2.07613730e-08, 1.67775569e-08,\n",
      "       1.34766807e-08, 1.14050963e-08, 1.13937140e-08, 9.41318829e-09,\n",
      "       7.58063289e-09, 6.10092978e-09, 5.55457786e-09, 5.23587257e-09,\n",
      "       5.07651993e-09, 4.17731572e-09, 4.99684360e-09, 5.03099060e-09,\n",
      "       6.95460465e-09])), ('ZJetsToNuNu_HT-400To600_13TeV-madgraph',): (array([1.81810465e+01, 1.53899618e+01, 1.38832545e+01, 1.32731466e+01,\n",
      "       1.30058930e+01, 1.18942427e+01, 1.20247498e+01, 7.33314861e+00,\n",
      "       3.96554481e+00, 1.87919862e+00, 7.28136171e-01, 8.75593625e-02,\n",
      "       8.52715882e-03, 3.11969225e-04, 2.07979483e-04, 0.00000000e+00,\n",
      "       0.00000000e+00, 0.00000000e+00, 0.00000000e+00, 0.00000000e+00,\n",
      "       0.00000000e+00]), array([1.89064233e-03, 1.60039815e-03, 1.44371604e-03, 1.38027109e-03,\n",
      "       1.35247945e-03, 1.23687922e-03, 1.25045062e-03, 7.62572229e-04,\n",
      "       4.12375980e-04, 1.95417379e-04, 7.57186924e-05, 9.10527549e-06,\n",
      "       8.86737043e-07, 3.24415991e-08, 2.16277328e-08, 0.00000000e+00,\n",
      "       0.00000000e+00, 0.00000000e+00, 0.00000000e+00, 0.00000000e+00,\n",
      "       0.00000000e+00])), ('ZJetsToNuNu_HT-800To1200_13TeV-madgraph',): (array([0.34461389, 0.27854565, 0.22543625, 0.18369322, 0.15598397,\n",
      "       0.13076298, 0.14348296, 0.11844112, 0.0987142 , 0.08539704,\n",
      "       0.09194614, 0.08772605, 0.0875668 , 0.09250351, 0.09146839,\n",
      "       0.08810427, 0.05748873, 0.03622905, 0.02500202, 0.0111474 ,\n",
      "       0.00445896]), array([3.42995426e-06, 2.77237465e-06, 2.24377495e-06, 1.82830510e-06,\n",
      "       1.55251395e-06, 1.30148853e-06, 1.42809094e-06, 1.17884865e-06,\n",
      "       9.82505959e-07, 8.49959783e-07, 9.15143179e-07, 8.73140504e-07,\n",
      "       8.71555498e-07, 9.20690702e-07, 9.10388159e-07, 8.76904895e-07,\n",
      "       5.72187378e-07, 3.60588999e-07, 2.48846034e-07, 1.10950461e-07,\n",
      "       4.43801845e-08])), ('ZJetsToNuNu_HT-200To400_13TeV-madgraph',): (array([4.37895131e+02, 2.44664527e+02, 1.34085670e+02, 6.88109534e+01,\n",
      "       3.13699014e+01, 1.08615604e+01, 2.72088684e+00, 2.08876162e-01,\n",
      "       2.10708409e-02, 1.83224703e-03, 6.41286461e-03, 0.00000000e+00,\n",
      "       1.83224703e-03, 0.00000000e+00, 0.00000000e+00, 0.00000000e+00,\n",
      "       0.00000000e+00, 0.00000000e+00, 0.00000000e+00, 0.00000000e+00,\n",
      "       0.00000000e+00]), array([4.01166027e-01, 2.24142926e-01, 1.22839035e-01, 6.30393325e-02,\n",
      "       2.87387044e-02, 9.95053090e-03, 2.49266842e-03, 1.91356363e-04,\n",
      "       1.93034928e-05, 1.67856459e-06, 5.87497607e-06, 0.00000000e+00,\n",
      "       1.67856459e-06, 0.00000000e+00, 0.00000000e+00, 0.00000000e+00,\n",
      "       0.00000000e+00, 0.00000000e+00, 0.00000000e+00, 0.00000000e+00,\n",
      "       0.00000000e+00]))}\n",
      "['ZJetsToNuNu_HT-100To200_13TeV-madgraph', 'ZJetsToNuNu_HT-1200To2500_13TeV-madgraph', 'ZJetsToNuNu_HT-200To400_13TeV-madgraph', 'ZJetsToNuNu_HT-2500ToInf_13TeV-madgraph', 'ZJetsToNuNu_HT-400To600_13TeV-madgraph', 'ZJetsToNuNu_HT-600To800_13TeV-madgraph', 'ZJetsToNuNu_HT-800To1200_13TeV-madgraph']\n"
     ]
    }
   ],
   "source": [
    "hists={}\n",
    "for filename in os.listdir('../pods/2016'):\n",
    "    print(filename)\n",
    "    with gzip.open('../pods/2016/'+filename) as fin:\n",
    "        hin = pickle.load(fin)\n",
    "        for k in hin.keys():\n",
    "            if k in hists: hists[k]+=hin[k]\n",
    "            else: hists[k]=hin[k]\n",
    "        \n",
    "print(hists['recoil'].values(sumw2=True))\n",
    "print(hists['recoil'].identifiers(\"dataset\"))"
   ]
  },
  {
   "cell_type": "code",
   "execution_count": 4,
   "metadata": {},
   "outputs": [
    {
     "name": "stdout",
     "output_type": "stream",
     "text": [
      "{('Zjets',): (array([4.90089223e+02, 2.64837006e+02, 1.50018925e+02, 8.35391658e+01,\n",
      "       4.55590121e+01, 2.37842580e+01, 1.59276308e+01, 8.62861480e+00,\n",
      "       5.02662876e+00, 2.94835207e+00, 2.01428772e+00, 1.03689583e+00,\n",
      "       5.92028591e-01, 3.25375989e-01, 1.63638288e-01, 1.02168669e-01,\n",
      "       6.05074637e-02, 3.81047946e-02, 2.71274382e-02, 1.32836743e-02,\n",
      "       7.40042210e-03]), array([5.99895215e-01, 2.42953075e-01, 1.26858403e-01, 6.49172619e-02,\n",
      "       3.02324353e-02, 1.13645046e-02, 3.76760230e-03, 1.05455672e-03,\n",
      "       4.53604715e-04, 2.19815509e-04, 1.08984083e-04, 2.91733152e-05,\n",
      "       1.44255924e-05, 6.10346015e-06, 2.49415422e-06, 1.14641239e-06,\n",
      "       5.96285547e-07, 3.66770374e-07, 2.53844653e-07, 1.15983028e-07,\n",
      "       5.13362989e-08]))}\n",
      "['Zjets']\n",
      "<Hist (process,recoil) instance at 0x120f9d5f8>\n"
     ]
    }
   ],
   "source": [
    "process = hist.Cat(\"process\", \"Process\", sorting='placement')\n",
    "process_cats = (\"dataset\",)\n",
    "process_map = OrderedDict()\n",
    "#process_map[\"Hcc\"] = (\"GluGluHToCC\", 2)\n",
    "#process_map[\"Hbb\"] = (\"GluGluHToBB\", 3)\n",
    "process_map[\"Zjets\"] = (\"ZJets*\",)\n",
    "#process_map[\"Zcc\"] = (\"ZJetsToQQ_HT*\", 2)\n",
    "#process_map[\"Zbb\"] = (\"ZJetsToQQ_HT*\", 3)\n",
    "#process_map[\"Wqq\"] = (\"WJetsToQQ_HT*\", 1)\n",
    "#process_map[\"Wcs\"] = (\"WJetsToQQ_HT*\", 2)\n",
    "#process_map[\"Top\"] = (\"TTTo*\", slice(None))\n",
    "#process_map[\"QCD\"] = (\"QCD*\", slice(None))\n",
    "\n",
    "\n",
    "for key in hists.keys():\n",
    "    hists[key] = hists[key].group(process, process_cats, process_map)\n",
    "\n",
    "print(hists['recoil'].values(sumw2=True))\n",
    "print(hists['recoil'].identifiers(\"process\"))\n",
    "print(hists['recoil'])"
   ]
  },
  {
   "cell_type": "code",
   "execution_count": 6,
   "metadata": {},
   "outputs": [
    {
     "data": {
      "image/png": "[encoded data removed]",
      "text/plain": [
       "<Figure size 720x720 with 1 Axes>"
      ]
     },
     "metadata": {
      "needs_background": "light"
     },
     "output_type": "display_data"
    }
   ],
   "source": [
    "from cycler import cycler\n",
    "\n",
    "fill_opts = {'edgecolor': (0,0,0,0.3), 'alpha': 0.8}\n",
    "error_opts = {'label':'Stat. Unc.', 'hatch':'///', 'facecolor':'none', 'edgecolor':(0,0,0,.5), 'linewidth': 0}\n",
    "nostack_fill_opts = {'alpha': 0.2, 'label': '_nolabel_'}\n",
    "data_err_opts = {'linestyle':'none', 'marker': '.', 'markersize': 10., 'color':'k', 'elinewidth': 1, 'emarker': '_'}\n",
    "colors = ['#a6cee3','#1f78b4','#b2df8a','#33a02c','#fb9a99','#e31a1c']\n",
    "\n",
    "fig, ax = plt.subplots(1, 1, figsize=(10,10))\n",
    "ax.set_prop_cycle(cycler(color=colors))\n",
    "\n",
    "#print(hists['recoil'],hists['recoil'].values(sumw2=True))\n",
    "#print(hists['recoil'].identifiers(\"process\")[0] == \"Zjets\")\n",
    "#to_plot = hists['recoil'].project(\"process\",\"Zjets\")\n",
    "#print(to_plot.values(sumw2=True))\n",
    "\n",
    "plot.plot1d(hists['recoil'], ax=ax, overlay=\"process\", clear=False, stack=True, line_opts=None, fill_opts=fill_opts, error_opts=error_opts)\n",
    "\n",
    "ax.autoscale(axis='x', tight=True)\n",
    "ax.set_yscale('log')\n",
    "ax.set_ylim(.1, None)\n",
    "leg = ax.legend()\n",
    "coffee = plt.text(0., 1., u\"☕\", fontsize=28, horizontalalignment='left', verticalalignment='bottom', transform=ax.transAxes)\n",
    "lumi = plt.text(1., 1., r\"1 fb$^{-1}$ (13 TeV)\", fontsize=16, horizontalalignment='right', verticalalignment='bottom', transform=ax.transAxes)"
   ]
  }
 ],
 "metadata": {
  "kernelspec": {
   "display_name": "Python 3",
   "language": "python",
   "name": "python3"
  },
  "language_info": {
   "codemirror_mode": {
    "name": "ipython",
    "version": 3
   },
   "file_extension": ".py",
   "mimetype": "text/x-python",
   "name": "python",
   "nbconvert_exporter": "python",
   "pygments_lexer": "ipython3",
   "version": "3.7.1"
  }
 },
 "nbformat": 4,
 "nbformat_minor": 2
}
