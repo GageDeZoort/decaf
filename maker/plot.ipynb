{
 "cells": [
  {
   "cell_type": "code",
   "execution_count": 2,
   "metadata": {},
   "outputs": [],
   "source": [
    "from __future__ import print_function, division\n",
    "from collections import defaultdict, OrderedDict\n",
    "import gzip\n",
    "import pickle\n",
    "import json\n",
    "import os\n",
    "import uproot\n",
    "import matplotlib.pyplot as plt\n",
    "%matplotlib inline\n",
    "import numpy as np\n",
    "from fnal_column_analysis_tools import hist\n",
    "from fnal_column_analysis_tools.hist import plot\n"
   ]
  },
  {
   "cell_type": "code",
   "execution_count": 3,
   "metadata": {},
   "outputs": [
    {
     "name": "stdout",
     "output_type": "stream",
     "text": [
      "ZJetsToNuNu_HT-100To200_13TeV-madgraph.pkl.gz\n",
      "ZJetsToNuNu_HT-600To800_13TeV-madgraph.pkl.gz\n",
      "ZJetsToNuNu_HT-2500ToInf_13TeV-madgraph.pkl.gz\n",
      "ZJetsToNuNu_HT-1200To2500_13TeV-madgraph.pkl.gz\n",
      "ZJetsToNuNu_HT-400To600_13TeV-madgraph.pkl.gz\n",
      "ZJetsToNuNu_HT-800To1200_13TeV-madgraph.pkl.gz\n",
      "ZJetsToNuNu_HT-200To400_13TeV-madgraph.pkl.gz\n",
      "{('ZJetsToNuNu_HT-100To200_13TeV-madgraph',): (array([0., 0., 0., 0., 0., 0., 0., 0., 0., 0., 0., 0., 0., 0., 0., 0., 0.,\n",
      "       0., 0., 0., 0.]), array([0., 0., 0., 0., 0., 0., 0., 0., 0., 0., 0., 0., 0., 0., 0., 0., 0.,\n",
      "       0., 0., 0., 0.])), ('ZJetsToNuNu_HT-600To800_13TeV-madgraph',): (array([126.64030152,  63.41459335,  63.22697247,  30.80244314,\n",
      "        50.15217396,   0.2821899 ,  75.75433269,  37.8210318 ,\n",
      "        25.28406296,  38.08855591,  50.74108101,  62.60923957,\n",
      "        12.44239983,  12.55441607,   0.        ,   0.        ,\n",
      "         0.        ,   0.        ,   0.        ,   0.        ,\n",
      "         0.        ]), array([3.20220551e-02, 1.60349081e-02, 1.59874666e-02, 7.78865432e-03,\n",
      "       1.26813949e-02, 7.13540657e-05, 1.91551140e-02, 9.56336293e-03,\n",
      "       6.39328593e-03, 9.63100863e-03, 1.28303050e-02, 1.58312677e-02,\n",
      "       3.14616444e-03, 3.17448868e-03, 0.00000000e+00, 0.00000000e+00,\n",
      "       0.00000000e+00, 0.00000000e+00, 0.00000000e+00, 0.00000000e+00,\n",
      "       0.00000000e+00])), ('ZJetsToNuNu_HT-2500ToInf_13TeV-madgraph',): (array([0.4879644 , 0.        , 0.97532335, 0.97124152, 0.        ,\n",
      "       0.        , 0.        , 0.        , 0.        , 0.        ,\n",
      "       0.        , 0.        , 0.48444894, 0.        , 0.        ,\n",
      "       0.97215945, 0.        , 0.        , 0.        , 0.        ,\n",
      "       0.        ]), array([4.76504408e-06, 0.00000000e+00, 9.52417596e-06, 9.48431627e-06,\n",
      "       0.00000000e+00, 0.00000000e+00, 0.00000000e+00, 0.00000000e+00,\n",
      "       0.00000000e+00, 0.00000000e+00, 0.00000000e+00, 0.00000000e+00,\n",
      "       4.73071516e-06, 0.00000000e+00, 0.00000000e+00, 9.49327993e-06,\n",
      "       0.00000000e+00, 0.00000000e+00, 0.00000000e+00, 0.00000000e+00,\n",
      "       0.00000000e+00])), ('ZJetsToNuNu_HT-1200To2500_13TeV-madgraph',): (array([32.2925995 ,  6.17550395, 16.19266959,  0.        ,  6.17550395,\n",
      "        0.        ,  0.        , 15.87031922,  0.06267924,  0.        ,\n",
      "        0.        ,  0.        ,  0.        ,  0.06587716,  0.        ,\n",
      "        0.        ,  0.13815016,  0.        ,  0.        , 15.87031922,\n",
      "        0.        ]), array([1.03269160e-02, 1.97487696e-03, 5.17828673e-03, 0.00000000e+00,\n",
      "       1.97487696e-03, 0.00000000e+00, 0.00000000e+00, 5.07520165e-03,\n",
      "       2.00443211e-05, 0.00000000e+00, 0.00000000e+00, 0.00000000e+00,\n",
      "       0.00000000e+00, 2.10669905e-05, 0.00000000e+00, 0.00000000e+00,\n",
      "       4.41793200e-05, 0.00000000e+00, 0.00000000e+00, 5.07520165e-03,\n",
      "       0.00000000e+00])), ('ZJetsToNuNu_HT-400To600_13TeV-madgraph',): (array([4.87601663e+02, 4.38254934e+02, 4.54865822e+01, 6.99687471e+02,\n",
      "       4.81438833e+02, 9.12871265e+01, 3.11487444e+02, 1.31198236e+02,\n",
      "       3.65995145e-01, 4.31195196e+01, 0.00000000e+00, 0.00000000e+00,\n",
      "       0.00000000e+00, 0.00000000e+00, 0.00000000e+00, 0.00000000e+00,\n",
      "       0.00000000e+00, 0.00000000e+00, 0.00000000e+00, 0.00000000e+00,\n",
      "       0.00000000e+00]), array([4.30023714e-01, 3.86504044e-01, 4.01153452e-02, 6.17065585e-01,\n",
      "       4.24588617e-01, 8.05075787e-02, 2.74705765e-01, 1.15705825e-01,\n",
      "       3.22776979e-04, 3.80277948e-02, 0.00000000e+00, 0.00000000e+00,\n",
      "       0.00000000e+00, 0.00000000e+00, 0.00000000e+00, 0.00000000e+00,\n",
      "       0.00000000e+00, 0.00000000e+00, 0.00000000e+00, 0.00000000e+00,\n",
      "       0.00000000e+00])), ('ZJetsToNuNu_HT-800To1200_13TeV-madgraph',): (array([3.08526681e+01, 3.10900987e+01, 3.07678493e+01, 1.56354401e+01,\n",
      "       0.00000000e+00, 7.24364567e-02, 1.54493961e+01, 1.55660992e+01,\n",
      "       7.66798710e+01, 1.55444302e+01, 6.11920898e+01, 0.00000000e+00,\n",
      "       0.00000000e+00, 0.00000000e+00, 0.00000000e+00, 4.62958730e+01,\n",
      "       0.00000000e+00, 0.00000000e+00, 0.00000000e+00, 0.00000000e+00,\n",
      "       0.00000000e+00]), array([9.55067502e-03, 9.62417345e-03, 9.52441874e-03, 4.84006787e-03,\n",
      "       0.00000000e+00, 2.24232490e-05, 4.78247653e-03, 4.81860288e-03,\n",
      "       2.37368297e-02, 4.81189507e-03, 1.89424708e-02, 0.00000000e+00,\n",
      "       0.00000000e+00, 0.00000000e+00, 0.00000000e+00, 1.43312350e-02,\n",
      "       0.00000000e+00, 0.00000000e+00, 0.00000000e+00, 0.00000000e+00,\n",
      "       0.00000000e+00])), ('ZJetsToNuNu_HT-200To400_13TeV-madgraph',): (array([699.9615735 ,  18.09529814, 145.46115318,   1.96493583,\n",
      "       138.07936721,   0.        ,   0.        ,   0.        ,\n",
      "         0.        ,   0.        ,   0.        ,   0.        ,\n",
      "         0.        ,   0.        ,   0.        ,   0.        ,\n",
      "         0.        ,   0.        ,   0.        ,   0.        ,\n",
      "         0.        ]), array([1.95644321, 0.05057767, 0.40657444, 0.00549214, 0.38594182,\n",
      "       0.        , 0.        , 0.        , 0.        , 0.        ,\n",
      "       0.        , 0.        , 0.        , 0.        , 0.        ,\n",
      "       0.        , 0.        , 0.        , 0.        , 0.        ,\n",
      "       0.        ]))}\n",
      "['ZJetsToNuNu_HT-100To200_13TeV-madgraph', 'ZJetsToNuNu_HT-1200To2500_13TeV-madgraph', 'ZJetsToNuNu_HT-200To400_13TeV-madgraph', 'ZJetsToNuNu_HT-2500ToInf_13TeV-madgraph', 'ZJetsToNuNu_HT-400To600_13TeV-madgraph', 'ZJetsToNuNu_HT-600To800_13TeV-madgraph', 'ZJetsToNuNu_HT-800To1200_13TeV-madgraph']\n"
     ]
    }
   ],
   "source": [
    "hists={}\n",
    "for filename in os.listdir('hists'):\n",
    "    print(filename)\n",
    "    with gzip.open('hists/'+filename) as fin:\n",
    "        hin = pickle.load(fin)\n",
    "        for k in hin.keys():\n",
    "            if k in hists: hists[k]+=hin[k]\n",
    "            else: hists[k]=hin[k]\n",
    "        \n",
    "print(hists['recoil'].values(sumw2=True))\n",
    "print(hists['recoil'].identifiers(\"dataset\"))"
   ]
  },
  {
   "cell_type": "code",
   "execution_count": 4,
   "metadata": {},
   "outputs": [
    {
     "name": "stdout",
     "output_type": "stream",
     "text": [
      "{('Zjets',): (array([1.37783677e+03, 5.57030428e+02, 3.02110550e+02, 7.49061532e+02,\n",
      "       6.75845879e+02, 9.16417529e+01, 4.02691173e+02, 2.00455686e+02,\n",
      "       1.02392608e+02, 9.67525058e+01, 1.11933171e+02, 6.26092396e+01,\n",
      "       1.29268488e+01, 1.26202932e+01, 0.00000000e+00, 4.72680324e+01,\n",
      "       1.38150158e-01, 0.00000000e+00, 0.00000000e+00, 1.58703192e+01,\n",
      "       0.00000000e+00]), array([2.43837134e+00, 4.64715669e-01, 4.77389483e-01, 6.35195929e-01,\n",
      "       8.25186704e-01, 8.06013560e-02, 2.98643356e-01, 1.35162992e-01,\n",
      "       3.04729369e-02, 5.24706985e-02, 3.17727758e-02, 1.58312677e-02,\n",
      "       3.15089515e-03, 3.19555567e-03, 0.00000000e+00, 1.43407283e-02,\n",
      "       4.41793200e-05, 0.00000000e+00, 0.00000000e+00, 5.07520165e-03,\n",
      "       0.00000000e+00]))}\n",
      "['Zjets']\n",
      "<Hist (process,recoil) instance at 0x120c3c748>\n"
     ]
    }
   ],
   "source": [
    "process = hist.Cat(\"process\", \"Process\", sorting='placement')\n",
    "process_cats = (\"dataset\",)\n",
    "process_map = OrderedDict()\n",
    "#process_map[\"Hcc\"] = (\"GluGluHToCC\", 2)\n",
    "#process_map[\"Hbb\"] = (\"GluGluHToBB\", 3)\n",
    "process_map[\"Zjets\"] = (\"ZJets*\",)\n",
    "#process_map[\"Zcc\"] = (\"ZJetsToQQ_HT*\", 2)\n",
    "#process_map[\"Zbb\"] = (\"ZJetsToQQ_HT*\", 3)\n",
    "#process_map[\"Wqq\"] = (\"WJetsToQQ_HT*\", 1)\n",
    "#process_map[\"Wcs\"] = (\"WJetsToQQ_HT*\", 2)\n",
    "#process_map[\"Top\"] = (\"TTTo*\", slice(None))\n",
    "#process_map[\"QCD\"] = (\"QCD*\", slice(None))\n",
    "\n",
    "\n",
    "for key in hists.keys():\n",
    "    hists[key] = hists[key].group(process, process_cats, process_map)\n",
    "\n",
    "print(hists['recoil'].values(sumw2=True))\n",
    "print(hists['recoil'].identifiers(\"process\"))\n",
    "print(hists['recoil'])"
   ]
  },
  {
   "cell_type": "code",
   "execution_count": 5,
   "metadata": {},
   "outputs": [
    {
     "data": {
      "image/png": "[encoded data removed]",
      "text/plain": [
       "<Figure size 720x720 with 1 Axes>"
      ]
     },
     "metadata": {
      "needs_background": "light"
     },
     "output_type": "display_data"
    }
   ],
   "source": [
    "from cycler import cycler\n",
    "\n",
    "fill_opts = {'edgecolor': (0,0,0,0.3), 'alpha': 0.8}\n",
    "error_opts = {'label':'Stat. Unc.', 'hatch':'///', 'facecolor':'none', 'edgecolor':(0,0,0,.5), 'linewidth': 0}\n",
    "nostack_fill_opts = {'alpha': 0.2, 'label': '_nolabel_'}\n",
    "data_err_opts = {'linestyle':'none', 'marker': '.', 'markersize': 10., 'color':'k', 'elinewidth': 1, 'emarker': '_'}\n",
    "colors = ['#a6cee3','#1f78b4','#b2df8a','#33a02c','#fb9a99','#e31a1c']\n",
    "\n",
    "fig, ax = plt.subplots(1, 1, figsize=(10,10))\n",
    "ax.set_prop_cycle(cycler(color=colors))\n",
    "\n",
    "#print(hists['recoil'],hists['recoil'].values(sumw2=True))\n",
    "#print(hists['recoil'].identifiers(\"process\")[0] == \"Zjets\")\n",
    "#to_plot = hists['recoil'].project(\"process\",\"Zjets\")\n",
    "#print(to_plot.values(sumw2=True))\n",
    "\n",
    "plot.plot1d(hists['recoil'], ax=ax, overlay=\"process\", clear=False, stack=True, line_opts=None, fill_opts=fill_opts, error_opts=error_opts)\n",
    "\n",
    "ax.autoscale(axis='x', tight=True)\n",
    "ax.set_ylim(0, None)\n",
    "leg = ax.legend()\n",
    "coffee = plt.text(0., 1., u\"☕\", fontsize=28, horizontalalignment='left', verticalalignment='bottom', transform=ax.transAxes)\n",
    "lumi = plt.text(1., 1., r\"1 fb$^{-1}$ (13 TeV)\", fontsize=16, horizontalalignment='right', verticalalignment='bottom', transform=ax.transAxes)"
   ]
  },
  {
   "cell_type": "code",
   "execution_count": null,
   "metadata": {},
   "outputs": [],
   "source": [
    "nbins = sum(sum(arr.size for arr in h._sumw.values()) for h in hists.values())\n",
    "nfilled = sum(sum(np.sum(arr>0) for arr in h._sumw.values()) for h in hists.values())\n",
    "print(\"Now %.1fM bins\" % (nbins/1e6, ))\n",
    "print(\"Nonzero bins: %.1f%%\" % (100*nfilled/nbins, ))"
   ]
  }
 ],
 "metadata": {
  "kernelspec": {
   "display_name": "Python 3",
   "language": "python",
   "name": "python3"
  },
  "language_info": {
   "codemirror_mode": {
    "name": "ipython",
    "version": 3
   },
   "file_extension": ".py",
   "mimetype": "text/x-python",
   "name": "python",
   "nbconvert_exporter": "python",
   "pygments_lexer": "ipython3",
   "version": "3.7.1"
  }
 },
 "nbformat": 4,
 "nbformat_minor": 2
}
