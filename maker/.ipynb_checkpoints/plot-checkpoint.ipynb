{
 "cells": [
  {
   "cell_type": "code",
   "execution_count": 2,
   "metadata": {},
   "outputs": [],
   "source": [
    "from __future__ import print_function, division\n",
    "from collections import defaultdict, OrderedDict\n",
    "import gzip\n",
    "import pickle\n",
    "import json\n",
    "import os\n",
    "import uproot\n",
    "import matplotlib.pyplot as plt\n",
    "%matplotlib inline\n",
    "import numpy as np\n",
    "from fnal_column_analysis_tools import hist\n",
    "from fnal_column_analysis_tools.hist import plot\n"
   ]
  },
  {
   "cell_type": "code",
   "execution_count": 4,
   "metadata": {},
   "outputs": [
    {
     "name": "stdout",
     "output_type": "stream",
     "text": [
      "ZJetsToNuNu_HT-100To200_13TeV-madgraph.pkl.gz\n",
      "ZJetsToNuNu_HT-600To800_13TeV-madgraph.pkl.gz\n",
      "ZJetsToNuNu_HT-2500ToInf_13TeV-madgraph.pkl.gz\n",
      "ZJetsToNuNu_HT-1200To2500_13TeV-madgraph.pkl.gz\n",
      "ZJetsToNuNu_HT-400To600_13TeV-madgraph.pkl.gz\n",
      "ZJetsToNuNu_HT-800To1200_13TeV-madgraph.pkl.gz\n",
      "ZJetsToNuNu_HT-200To400_13TeV-madgraph.pkl.gz\n",
      "{('ZJetsToNuNu_HT-100To200_13TeV-madgraph',): (array([0., 0., 0., 0., 0., 0., 0., 0., 0., 0., 0., 0., 0., 0., 0., 0., 0.,\n",
      "       0., 0., 0., 0.]), array([0., 0., 0., 0., 0., 0., 0., 0., 0., 0., 0., 0., 0., 0., 0., 0., 0.,\n",
      "       0., 0., 0., 0.])), ('ZJetsToNuNu_HT-600To800_13TeV-madgraph',): (array([11.20470094,  5.61070643,  5.59410637,  2.72529487,  4.4372929 ,\n",
      "        0.0249672 ,  6.70248438,  3.3462756 ,  2.23704745,  3.36994522,\n",
      "        4.48939738,  5.53945148,  1.100861  ,  1.11077181,  0.        ,\n",
      "        0.        ,  0.        ,  0.        ,  0.        ,  0.        ,\n",
      "        0.        ]), array([2.50672024e-04, 1.25522952e-04, 1.25151575e-04, 6.09704073e-05,\n",
      "       9.92712968e-05, 5.58567151e-07, 1.49948252e-04, 7.48630134e-05,\n",
      "       5.00473164e-05, 7.53925511e-05, 1.00436980e-04, 1.23928833e-04,\n",
      "       2.46285070e-05, 2.48502321e-05, 0.00000000e+00, 0.00000000e+00,\n",
      "       0.00000000e+00, 0.00000000e+00, 0.00000000e+00, 0.00000000e+00,\n",
      "       0.00000000e+00])), ('ZJetsToNuNu_HT-2500ToInf_13TeV-madgraph',): (array([0.00287536, 0.        , 0.00574714, 0.00572309, 0.        ,\n",
      "       0.        , 0.        , 0.        , 0.        , 0.        ,\n",
      "       0.        , 0.        , 0.00285464, 0.        , 0.        ,\n",
      "       0.0057285 , 0.        , 0.        , 0.        , 0.        ,\n",
      "       0.        ]), array([1.65452654e-10, 0.00000000e+00, 3.30700023e-10, 3.29316008e-10,\n",
      "       0.00000000e+00, 0.00000000e+00, 0.00000000e+00, 0.00000000e+00,\n",
      "       0.00000000e+00, 0.00000000e+00, 0.00000000e+00, 0.00000000e+00,\n",
      "       1.64260679e-10, 0.00000000e+00, 0.00000000e+00, 3.29627246e-10,\n",
      "       0.00000000e+00, 0.00000000e+00, 0.00000000e+00, 0.00000000e+00,\n",
      "       0.00000000e+00])), ('ZJetsToNuNu_HT-1200To2500_13TeV-madgraph',): (array([0.24089955, 0.04606864, 0.12079569, 0.        , 0.04606864,\n",
      "       0.        , 0.        , 0.11839099, 0.00046758, 0.        ,\n",
      "       0.        , 0.        , 0.        , 0.00049144, 0.        ,\n",
      "       0.        , 0.00103059, 0.        , 0.        , 0.11839099,\n",
      "       0.        ]), array([5.74693926e-07, 1.09902103e-07, 2.88172182e-07, 0.00000000e+00,\n",
      "       1.09902103e-07, 0.00000000e+00, 0.00000000e+00, 2.82435487e-07,\n",
      "       1.11546850e-09, 0.00000000e+00, 0.00000000e+00, 0.00000000e+00,\n",
      "       0.00000000e+00, 1.17238016e-09, 0.00000000e+00, 0.00000000e+00,\n",
      "       2.45858364e-09, 0.00000000e+00, 0.00000000e+00, 2.82435487e-07,\n",
      "       0.00000000e+00])), ('ZJetsToNuNu_HT-400To600_13TeV-madgraph',): (array([5.74947843e+01, 5.16761423e+01, 5.36347891e+00, 8.25025494e+01,\n",
      "       5.67681040e+01, 1.07639782e+01, 3.67285528e+01, 1.54700339e+01,\n",
      "       4.31557428e-02, 5.08437044e+00, 0.00000000e+00, 0.00000000e+00,\n",
      "       0.00000000e+00, 0.00000000e+00, 0.00000000e+00, 0.00000000e+00,\n",
      "       0.00000000e+00, 0.00000000e+00, 0.00000000e+00, 0.00000000e+00,\n",
      "       0.00000000e+00]), array([5.97886777e-03, 5.37378869e-03, 5.57746786e-04, 8.57941880e-03,\n",
      "       5.90330047e-03, 1.11934331e-03, 3.81939272e-03, 1.60872483e-03,\n",
      "       4.48775455e-06, 5.28722369e-04, 0.00000000e+00, 0.00000000e+00,\n",
      "       0.00000000e+00, 0.00000000e+00, 0.00000000e+00, 0.00000000e+00,\n",
      "       0.00000000e+00, 0.00000000e+00, 0.00000000e+00, 0.00000000e+00,\n",
      "       0.00000000e+00])), ('ZJetsToNuNu_HT-800To1200_13TeV-madgraph',): (array([9.91989170e-01, 9.99623148e-01, 9.89262038e-01, 5.02717860e-01,\n",
      "       0.00000000e+00, 2.32901026e-03, 4.96736086e-01, 5.00488380e-01,\n",
      "       2.46544647e+00, 4.99791668e-01, 1.96747621e+00, 0.00000000e+00,\n",
      "       0.00000000e+00, 0.00000000e+00, 0.00000000e+00, 1.48852619e+00,\n",
      "       0.00000000e+00, 0.00000000e+00, 0.00000000e+00, 0.00000000e+00,\n",
      "       0.00000000e+00]), array([9.87330322e-06, 9.94928448e-06, 9.84615999e-06, 5.00356861e-06,\n",
      "       0.00000000e+00, 2.31807213e-08, 4.94403180e-06, 4.98137852e-06,\n",
      "       2.45386757e-05, 4.97444411e-06, 1.95823601e-05, 0.00000000e+00,\n",
      "       0.00000000e+00, 0.00000000e+00, 0.00000000e+00, 1.48153538e-05,\n",
      "       0.00000000e+00, 0.00000000e+00, 0.00000000e+00, 0.00000000e+00,\n",
      "       0.00000000e+00])), ('ZJetsToNuNu_HT-200To400_13TeV-madgraph',): (array([229.42206366,   5.93098364,  47.6769    ,   0.64403483,\n",
      "        45.2574178 ,   0.        ,   0.        ,   0.        ,\n",
      "         0.        ,   0.        ,   0.        ,   0.        ,\n",
      "         0.        ,   0.        ,   0.        ,   0.        ,\n",
      "         0.        ,   0.        ,   0.        ,   0.        ,\n",
      "         0.        ]), array([0.21017895, 0.00543351, 0.04367793, 0.00059002, 0.04146138,\n",
      "       0.        , 0.        , 0.        , 0.        , 0.        ,\n",
      "       0.        , 0.        , 0.        , 0.        , 0.        ,\n",
      "       0.        , 0.        , 0.        , 0.        , 0.        ,\n",
      "       0.        ]))}\n",
      "['ZJetsToNuNu_HT-100To200_13TeV-madgraph', 'ZJetsToNuNu_HT-1200To2500_13TeV-madgraph', 'ZJetsToNuNu_HT-200To400_13TeV-madgraph', 'ZJetsToNuNu_HT-2500ToInf_13TeV-madgraph', 'ZJetsToNuNu_HT-400To600_13TeV-madgraph', 'ZJetsToNuNu_HT-600To800_13TeV-madgraph', 'ZJetsToNuNu_HT-800To1200_13TeV-madgraph']\n"
     ]
    }
   ],
   "source": [
    "hists={}\n",
    "for filename in os.listdir('../pods/2016'):\n",
    "    print(filename)\n",
    "    with gzip.open('../pods/2016/'+filename) as fin:\n",
    "        hin = pickle.load(fin)\n",
    "        for k in hin.keys():\n",
    "            if k in hists: hists[k]+=hin[k]\n",
    "            else: hists[k]=hin[k]\n",
    "        \n",
    "print(hists['recoil'].values(sumw2=True))\n",
    "print(hists['recoil'].identifiers(\"dataset\"))"
   ]
  },
  {
   "cell_type": "code",
   "execution_count": 5,
   "metadata": {},
   "outputs": [
    {
     "name": "stdout",
     "output_type": "stream",
     "text": [
      "{('Zjets',): (array([2.99357313e+02, 6.42635241e+01, 5.97502902e+01, 8.63803200e+01,\n",
      "       1.06508883e+02, 1.07912744e+01, 4.39277733e+01, 1.94351889e+01,\n",
      "       4.74611725e+00, 8.95410732e+00, 6.45687359e+00, 5.53945148e+00,\n",
      "       1.10371564e+00, 1.11126325e+00, 0.00000000e+00, 1.49425469e+00,\n",
      "       1.03058631e-03, 0.00000000e+00, 0.00000000e+00, 1.18390987e-01,\n",
      "       0.00000000e+00]), array([2.16418935e-01, 1.09428844e-02, 4.43709623e-02, 9.23540856e-03,\n",
      "       4.74640664e-02, 1.11992506e-03, 3.97428501e-03, 1.68885166e-03,\n",
      "       7.90748621e-05, 6.09089364e-04, 1.20019341e-04, 1.23928833e-04,\n",
      "       2.46286712e-05, 2.48514045e-05, 0.00000000e+00, 1.48156834e-05,\n",
      "       2.45858364e-09, 0.00000000e+00, 0.00000000e+00, 2.82435487e-07,\n",
      "       0.00000000e+00]))}\n",
      "['Zjets']\n",
      "<Hist (process,recoil) instance at 0x12b4a9ac8>\n"
     ]
    }
   ],
   "source": [
    "process = hist.Cat(\"process\", \"Process\", sorting='placement')\n",
    "process_cats = (\"dataset\",)\n",
    "process_map = OrderedDict()\n",
    "#process_map[\"Hcc\"] = (\"GluGluHToCC\", 2)\n",
    "#process_map[\"Hbb\"] = (\"GluGluHToBB\", 3)\n",
    "process_map[\"Zjets\"] = (\"ZJets*\",)\n",
    "#process_map[\"Zcc\"] = (\"ZJetsToQQ_HT*\", 2)\n",
    "#process_map[\"Zbb\"] = (\"ZJetsToQQ_HT*\", 3)\n",
    "#process_map[\"Wqq\"] = (\"WJetsToQQ_HT*\", 1)\n",
    "#process_map[\"Wcs\"] = (\"WJetsToQQ_HT*\", 2)\n",
    "#process_map[\"Top\"] = (\"TTTo*\", slice(None))\n",
    "#process_map[\"QCD\"] = (\"QCD*\", slice(None))\n",
    "\n",
    "\n",
    "for key in hists.keys():\n",
    "    hists[key] = hists[key].group(process, process_cats, process_map)\n",
    "\n",
    "print(hists['recoil'].values(sumw2=True))\n",
    "print(hists['recoil'].identifiers(\"process\"))\n",
    "print(hists['recoil'])"
   ]
  },
  {
   "cell_type": "code",
   "execution_count": 6,
   "metadata": {},
   "outputs": [
    {
     "data": {
      "image/png": "[encoded data removed]",
      "text/plain": [
       "<Figure size 720x720 with 1 Axes>"
      ]
     },
     "metadata": {
      "needs_background": "light"
     },
     "output_type": "display_data"
    }
   ],
   "source": [
    "from cycler import cycler\n",
    "\n",
    "fill_opts = {'edgecolor': (0,0,0,0.3), 'alpha': 0.8}\n",
    "error_opts = {'label':'Stat. Unc.', 'hatch':'///', 'facecolor':'none', 'edgecolor':(0,0,0,.5), 'linewidth': 0}\n",
    "nostack_fill_opts = {'alpha': 0.2, 'label': '_nolabel_'}\n",
    "data_err_opts = {'linestyle':'none', 'marker': '.', 'markersize': 10., 'color':'k', 'elinewidth': 1, 'emarker': '_'}\n",
    "colors = ['#a6cee3','#1f78b4','#b2df8a','#33a02c','#fb9a99','#e31a1c']\n",
    "\n",
    "fig, ax = plt.subplots(1, 1, figsize=(10,10))\n",
    "ax.set_prop_cycle(cycler(color=colors))\n",
    "\n",
    "#print(hists['recoil'],hists['recoil'].values(sumw2=True))\n",
    "#print(hists['recoil'].identifiers(\"process\")[0] == \"Zjets\")\n",
    "#to_plot = hists['recoil'].project(\"process\",\"Zjets\")\n",
    "#print(to_plot.values(sumw2=True))\n",
    "\n",
    "plot.plot1d(hists['recoil'], ax=ax, overlay=\"process\", clear=False, stack=True, line_opts=None, fill_opts=fill_opts, error_opts=error_opts)\n",
    "\n",
    "ax.autoscale(axis='x', tight=True)\n",
    "ax.set_ylim(0, None)\n",
    "leg = ax.legend()\n",
    "coffee = plt.text(0., 1., u\"☕\", fontsize=28, horizontalalignment='left', verticalalignment='bottom', transform=ax.transAxes)\n",
    "lumi = plt.text(1., 1., r\"1 fb$^{-1}$ (13 TeV)\", fontsize=16, horizontalalignment='right', verticalalignment='bottom', transform=ax.transAxes)"
   ]
  },
  {
   "cell_type": "code",
   "execution_count": 7,
   "metadata": {},
   "outputs": [
    {
     "name": "stdout",
     "output_type": "stream",
     "text": [
      "Now 0.0M bins\n",
      "Nonzero bins: 75.0%\n"
     ]
    }
   ],
   "source": [
    "nbins = sum(sum(arr.size for arr in h._sumw.values()) for h in hists.values())\n",
    "nfilled = sum(sum(np.sum(arr>0) for arr in h._sumw.values()) for h in hists.values())\n",
    "print(\"Now %.1fM bins\" % (nbins/1e6, ))\n",
    "print(\"Nonzero bins: %.1f%%\" % (100*nfilled/nbins, ))"
   ]
  }
 ],
 "metadata": {
  "kernelspec": {
   "display_name": "Python 3",
   "language": "python",
   "name": "python3"
  },
  "language_info": {
   "codemirror_mode": {
    "name": "ipython",
    "version": 3
   },
   "file_extension": ".py",
   "mimetype": "text/x-python",
   "name": "python",
   "nbconvert_exporter": "python",
   "pygments_lexer": "ipython3",
   "version": "3.7.1"
  }
 },
 "nbformat": 4,
 "nbformat_minor": 2
}
