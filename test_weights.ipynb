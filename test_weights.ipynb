{
 "cells": [
  {
   "cell_type": "code",
   "execution_count": 1,
   "metadata": {
    "scrolled": true
   },
   "outputs": [],
   "source": [
    "import numpy as np\n",
    "from fnal_column_analysis_tools.analysis_objects import JaggedCandidateArray\n",
    "import fnal_column_analysis_tools\n",
    "\n",
    "import numba\n",
    "import awkward\n",
    "import uproot, uproot_methods\n",
    "\n",
    "from collections import OrderedDict"
   ]
  },
  {
   "cell_type": "code",
   "execution_count": 21,
   "metadata": {},
   "outputs": [
    {
     "name": "stdout",
     "output_type": "stream",
     "text": [
      "100.0\n",
      "100\n",
      "[3.67091756e-01 8.95932172e-01 1.17982842e+00 9.78249367e-01\n",
      " 1.13059644e+00 1.17987177e+00 7.91335005e-01 4.95123537e-01\n",
      " 7.41019945e-01 8.81739611e-01 9.59811890e-01 1.06874503e+00\n",
      " 1.12675485e+00 1.17481261e+00 1.20090241e+00 1.20750813e+00\n",
      " 1.20122873e+00 1.18164956e+00 1.14434720e+00 1.09592574e+00\n",
      " 1.06494922e+00 1.05110036e+00 1.05238396e+00 1.05158760e+00\n",
      " 1.04932300e+00 1.05912672e+00 1.07209590e+00 1.08343339e+00\n",
      " 1.09391953e+00 1.10807757e+00 1.09528529e+00 1.08231498e+00\n",
      " 1.04289604e+00 9.86765604e-01 9.10276155e-01 8.22388055e-01\n",
      " 7.18035886e-01 6.10163692e-01 5.02722169e-01 4.04339170e-01\n",
      " 3.09550929e-01 2.28468801e-01 1.63507399e-01 1.13173355e-01\n",
      " 7.71948576e-02 5.09626632e-02 3.18455171e-02 2.00395213e-02\n",
      " 1.22255596e-02 7.44935509e-03 4.36101138e-03 2.60661520e-03\n",
      " 1.57077506e-03 9.74297017e-04 7.31243853e-04 6.80237063e-04\n",
      " 7.18033834e-04 9.51165510e-04 1.33596524e-03 1.87167866e-03\n",
      " 3.06685587e-03 4.07716209e-03 4.89000555e-03 5.09162623e-03\n",
      " 5.60694486e-03 5.55634526e-03 4.94777460e-03 4.20864794e-03\n",
      " 3.83306462e-03 3.41218533e-03 3.08585249e-03 2.83462459e-03\n",
      " 2.29651154e-03 2.05785540e-03 1.81937282e-03 0.00000000e+00\n",
      " 0.00000000e+00 0.00000000e+00 0.00000000e+00 0.00000000e+00\n",
      " 0.00000000e+00 0.00000000e+00 0.00000000e+00 0.00000000e+00\n",
      " 0.00000000e+00 0.00000000e+00 0.00000000e+00 0.00000000e+00\n",
      " 0.00000000e+00 0.00000000e+00 0.00000000e+00 0.00000000e+00\n",
      " 0.00000000e+00 0.00000000e+00 0.00000000e+00 0.00000000e+00\n",
      " 0.00000000e+00 0.00000000e+00 0.00000000e+00 0.00000000e+00]\n",
      "[  0.   1.   2.   3.   4.   5.   6.   7.   8.   9.  10.  11.  12.  13.\n",
      "  14.  15.  16.  17.  18.  19.  20.  21.  22.  23.  24.  25.  26.  27.\n",
      "  28.  29.  30.  31.  32.  33.  34.  35.  36.  37.  38.  39.  40.  41.\n",
      "  42.  43.  44.  45.  46.  47.  48.  49.  50.  51.  52.  53.  54.  55.\n",
      "  56.  57.  58.  59.  60.  61.  62.  63.  64.  65.  66.  67.  68.  69.\n",
      "  70.  71.  72.  73.  74.  75.  76.  77.  78.  79.  80.  81.  82.  83.\n",
      "  84.  85.  86.  87.  88.  89.  90.  91.  92.  93.  94.  95.  96.  97.\n",
      "  98.  99. 100.]\n"
     ]
    },
    {
     "ename": "NameError",
     "evalue": "name 'math' is not defined",
     "output_type": "error",
     "traceback": [
      "\u001b[0;31m---------------------------------------------------------------------------\u001b[0m",
      "\u001b[0;31mNameError\u001b[0m                                 Traceback (most recent call last)",
      "\u001b[0;32m<ipython-input-21-4efb921ce06b>\u001b[0m in \u001b[0;36m<module>\u001b[0;34m()\u001b[0m\n\u001b[1;32m      5\u001b[0m \u001b[0;32mprint\u001b[0m \u001b[0mdata_pu\u001b[0m\u001b[0;34m.\u001b[0m\u001b[0mvalues\u001b[0m\u001b[0;34m\u001b[0m\u001b[0m\n\u001b[1;32m      6\u001b[0m \u001b[0;32mprint\u001b[0m \u001b[0mdata_pu\u001b[0m\u001b[0;34m.\u001b[0m\u001b[0medges\u001b[0m\u001b[0;34m\u001b[0m\u001b[0m\n\u001b[0;32m----> 7\u001b[0;31m \u001b[0mi\u001b[0m \u001b[0;34m=\u001b[0m \u001b[0mmath\u001b[0m\u001b[0;34m.\u001b[0m\u001b[0mfloor\u001b[0m\u001b[0;34m(\u001b[0m\u001b[0mnumbins\u001b[0m\u001b[0;34m*\u001b[0m\u001b[0;34m(\u001b[0m\u001b[0mpt\u001b[0m \u001b[0;34m-\u001b[0m \u001b[0mlow\u001b[0m\u001b[0;34m)\u001b[0m\u001b[0;34m/\u001b[0m\u001b[0;34m(\u001b[0m\u001b[0mhigh\u001b[0m \u001b[0;34m-\u001b[0m \u001b[0mlow\u001b[0m\u001b[0;34m)\u001b[0m\u001b[0;34m)\u001b[0m\u001b[0;34m\u001b[0m\u001b[0m\n\u001b[0m",
      "\u001b[0;31mNameError\u001b[0m: name 'math' is not defined"
     ]
    }
   ],
   "source": [
    "with uproot.open(\"puWeights_80x_37ifb.root\") as fin:\n",
    "    data_pu = fin[\"puWeights\"]\n",
    "print data_pu.high\n",
    "print data_pu.numbins\n",
    "print data_pu.values\n",
    "print data_pu.edges\n",
    "\n",
    "#Jim's example (only works for uniform bins)\n",
    "#i = math.floor(numbins*(pt - low)/(high - low))\n"
   ]
  },
  {
   "cell_type": "code",
   "execution_count": 32,
   "metadata": {},
   "outputs": [
    {
     "name": "stdout",
     "output_type": "stream",
     "text": [
      "<type 'numpy.ndarray'>\n",
      "[  0  20  30  40 100]\n",
      "(100,)\n",
      "(5,)\n",
      "[ 0 20 30 40 99]\n",
      "[0.36709176 1.06494922 1.09528529 0.30955093 0.        ]\n"
     ]
    }
   ],
   "source": [
    "indices = []\n",
    "axis = data_pu.edges\n",
    "args = data_pu.values\n",
    "pu = np.fromiter([0,20,30,40,120],int)\n",
    "print type(pu)\n",
    "temp1 = np.searchsorted(axis,pu, side='right')-1\n",
    "print temp1\n",
    "print args.shape\n",
    "print pu.shape\n",
    "test = np.clip(temp1,0,args.shape[0]-1)\n",
    "print test\n",
    "print  args[test]\n",
    "puweights_per_event = args[test]\n",
    "#print test\n",
    "#indices.append(test) "
   ]
  },
  {
   "cell_type": "code",
   "execution_count": null,
   "metadata": {},
   "outputs": [],
   "source": [
    "#Current method:\n",
    "#Lindsey's way is w = weights[key](values) \n",
    "# where weights is the evaluator and key is the name of the histogram we extracted. \n",
    "# values is, for example, n_vtx for PU weights\n",
    "\n",
    "#We would also like to be able to do this with jagged quantities:\n",
    "#mu['weight'] = Lindsey's evaluator['muon_trig_weights'](mu_pt,mu_eta)\n",
    "\n",
    "#Then we could apply it like:\n",
    "#ele['weight'] = something jagged\n",
    "#diele = ele.distincts()\n",
    "#diele_weight = diele.i0.weight*diele.i1.weight"
   ]
  }
 ],
 "metadata": {
  "kernelspec": {
   "display_name": "Python 3",
   "language": "python",
   "name": "python3"
  },
  "language_info": {
   "codemirror_mode": {
    "name": "ipython",
    "version": 3
   },
   "file_extension": ".py",
   "mimetype": "text/x-python",
   "name": "python",
   "nbconvert_exporter": "python",
   "pygments_lexer": "ipython3",
   "version": "3.7.1"
  }
 },
 "nbformat": 4,
 "nbformat_minor": 2
}
