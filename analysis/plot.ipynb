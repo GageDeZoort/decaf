{
 "cells": [
  {
   "cell_type": "code",
   "execution_count": 1,
   "metadata": {},
   "outputs": [],
   "source": [
    "from __future__ import print_function, division\n",
    "from collections import defaultdict, OrderedDict\n",
    "import gzip\n",
    "import pickle\n",
    "import json\n",
    "import os\n",
    "import uproot\n",
    "import matplotlib.pyplot as plt\n",
    "%matplotlib inline\n",
    "import numpy as np\n",
    "from coffea import hist, processor \n",
    "from coffea.hist import plot\n",
    "from coffea.util import load"
   ]
  },
  {
   "cell_type": "code",
   "execution_count": 2,
   "metadata": {},
   "outputs": [],
   "source": [
    "hists = load('pods/hists_darkhiggs2018.coffea')\n",
    "signal_hists = hists['signal']\n",
    "bkg_hists    = hists['bkg']\n",
    "data_hists   = hists['data']"
   ]
  },
  {
   "cell_type": "code",
   "execution_count": 11,
   "metadata": {},
   "outputs": [
    {
     "name": "stdout",
     "output_type": "stream",
     "text": [
      "------------------\n",
      "------------------\n",
      "Category: iszeroL\n",
      "------------------\n",
      "Hbb 77.6\n",
      "DY 470.3\n",
      "Diboson 1535.9\n",
      "ST 941.8\n",
      "TT 8048.5\n",
      "Wjets 38912.8\n",
      "ZJets 69742.8\n",
      "------------------\n",
      "Mhs_50 1077.3\n",
      "Mhs_70 883.5\n",
      "Mhs_90 854.6\n",
      "MonoJet 9371.0\n",
      "MonoW 196.9\n",
      "MonoZ 70.8\n",
      "------------------\n",
      "Total expected: 119729.7\n",
      "------------------\n",
      "------------------\n",
      "\n"
     ]
    }
   ],
   "source": [
    "exp = 0\n",
    "region = 'iszeroL'\n",
    "jet_selection = 'mass2'\n",
    "data={}\n",
    "data['iszeroL'] = 'MET'\n",
    "data['isoneM'] = 'MET'\n",
    "data['isoneE'] = 'SingleElectron'\n",
    "data['istwoM'] = 'MET'\n",
    "data['istwoE'] = 'SingleElectron'\n",
    "data['isoneA'] = 'SinglePhoton'\n",
    "\n",
    "print('------------------')\n",
    "print('------------------')\n",
    "print('Category:',region)\n",
    "print('------------------')\n",
    "for p in bkg_hists['recoil'].identifiers('process'):\n",
    "    yld = bkg_hists['recoil'].integrate('jet_selection',jet_selection).integrate('region',region).integrate('process', p).values(overflow='all')\n",
    "    if () in yld:\n",
    "    #yld = np.sum(bkg_hists['recoil'].integrate('jet_selection',jet_selection).integrate('region',region).integrate('process', p).values(overflow='all')[()])\n",
    "        exp += np.sum(yld[()])\n",
    "        print(p, '%.1f' % np.sum(yld[()]))\n",
    "\n",
    "print('------------------')\n",
    "for p in signal_hists['recoil'].identifiers('process'):\n",
    "    yld = signal_hists['recoil'].integrate('jet_selection',jet_selection).integrate('region',region).integrate('process', p).values(overflow='all')\n",
    "    if () in yld:\n",
    "        print(p, '%.1f' % np.sum(yld[()]))\n",
    "\n",
    "    \n",
    "print('------------------')\n",
    "print('Total expected:', '%.1f' % exp)\n",
    "yld = data_hists['recoil'].integrate('jet_selection',jet_selection).integrate('region',region).integrate('process', data[region]).values(overflow='all')\n",
    "if () in yld and 'iszeroL' not in region:\n",
    "    print('Total observed:', '%.1f' % np.sum(yld[()]))   \n",
    "print('------------------')\n",
    "print('------------------')\n",
    "print()"
   ]
  },
  {
   "cell_type": "code",
   "execution_count": null,
   "metadata": {
    "scrolled": true
   },
   "outputs": [],
   "source": [
    "#http://colorbrewer2.org/#type=qualitative&scheme=Paired&n=6 : colors\n",
    "from cycler import cycler\n",
    "\n",
    "plt.rcParams.update({'figure.max_open_warning': 0,'font.size': 14, 'axes.titlesize': 18, 'axes.labelsize': 18, 'xtick.labelsize': 12, 'ytick.labelsize': 12})\n",
    "fill_opts = {'edgecolor': (0,0,0,0.3), 'alpha': 0.8}\n",
    "error_opts = {'label':'Stat. Unc.', 'hatch':'///', 'facecolor':'none', 'edgecolor':(0,0,0,.5), 'linewidth': 0}\n",
    "nostack_fill_opts = {'alpha': 0.2, 'label': '_nolabel_'}\n",
    "data_err_opts = {'linestyle':'none', 'marker': '.', 'markersize': 10., 'color':'k', 'elinewidth': 1, 'emarker': '_'}\n",
    "#colors = ['#a6cee3','#1f78b4','#b2df8a','#33a02c','#fb9a99','#e31a1c']\n",
    "colors = ['#a6cee3', '#1f78b4','#b2df8a','#33a02c','#fb9a99','#e31a1c','#fdbf6f','#66c2a5', '#fc8d62', '#8da0cb', '#e78ac3', '#a6d854', '#ffd92f']\n",
    "\n",
    "if not os.path.exists('stack'):\n",
    "    os.makedirs('stack')\n",
    "\n",
    "for key in hists.keys():\n",
    "    if key=='sumw': continue\n",
    "    \n",
    "    fig, ax = plt.subplots(1, 1, figsize=(10,10))\n",
    "    ax.set_prop_cycle(cycler(color=colors))\n",
    "    plot.plot1d(data_hists[key].project('jet_selection','baggy').project('region','iszeroL'),            \n",
    "            overlay=\"process\",\n",
    "            ax=ax,\n",
    "            clear=False,\n",
    "            error_opts=data_err_opts\n",
    "               )\n",
    "    plot.plot1d(hists[key].project('jet_selection','baggy').project('region','iszeroL'),\n",
    "            overlay=\"process\",\n",
    "            ax=ax,\n",
    "            clear=False,\n",
    "            stack=True,\n",
    "            #line_opts={'linestyle':'none', 'label':'_', 'alpha': 0.},\n",
    "            #line_opts={'linestyle':'-','color':'k','label':'_'},\n",
    "            fill_opts=fill_opts,\n",
    "            error_opts=error_opts\n",
    "               )\n",
    "    ax._get_lines.prop_cycler = ax._get_patches_for_fill.prop_cycler\n",
    "    args = {'linestyle':'--', 'linewidth': 5}\n",
    "    plot.plot1d(signal_hists[key].project('jet_selection','baggy').project('region','iszeroL'), \n",
    "                ax=ax, overlay=\"process\", clear=False, stack=False, line_opts=args)\n",
    "    ax.autoscale(axis='x', tight=True)\n",
    "    ax.set_yscale('log')\n",
    "    ax.set_ylim(.1, None)\n",
    "    leg = ax.legend()\n",
    "    coffee = plt.text(0., 1., u\"☕ Baggy Zero Lepton\", fontsize=20, horizontalalignment='left', verticalalignment='bottom', transform=ax.transAxes)\n",
    "    lumi = plt.text(1., 1., r\"59.97 fb$^{-1}$ (13 TeV)\", fontsize=20, horizontalalignment='right', verticalalignment='bottom', transform=ax.transAxes)\n",
    "    plot_path = os.path.abspath('stack') \n",
    "    plot_name = 'stack'+key+'.png'\n",
    "    fig.savefig(os.path.join(plot_path, plot_name))"
   ]
  },
  {
   "cell_type": "code",
   "execution_count": null,
   "metadata": {
    "scrolled": true
   },
   "outputs": [],
   "source": [
    "if not os.path.exists('unstack'):\n",
    "    os.makedirs('unstack')\n",
    "\n",
    "\n",
    "for key in hists.keys():\n",
    "    if key=='sumw': continue\n",
    "    \n",
    "    args = {'linestyle':'--','linewidth':2}\n",
    "    fig, ax = plt.subplots(1, 1, figsize=(10,10))\n",
    "    ax.set_prop_cycle(cycler(color=colors))\n",
    "    plot.plot1d(hists[key].project('jet_selection','baggy').project('region','iszeroL'), ax=ax, overlay=\"process\", clear=False, stack=False, line_opts={},density=1)\n",
    "    plot.plot1d(signal_hists[key].project('jet_selection','baggy').project('region','iszeroL'), ax=ax, overlay=\"process\", clear=False, stack=False, line_opts=args,density=1)\n",
    "    ax.autoscale(axis='x', tight=True)\n",
    "    #ax.set_yscale('log')\n",
    "    #ax.set_ylim(.01, None)\n",
    "    leg = ax.legend()\n",
    "    coffee = plt.text(0., 1., u\"☕\", fontsize=28, horizontalalignment='left', verticalalignment='bottom', transform=ax.transAxes)\n",
    "    lumi = plt.text(1., 1., r\"1 fb$^{-1}$ (13 TeV)\", fontsize=16, horizontalalignment='right', verticalalignment='bottom', transform=ax.transAxes)\n",
    "    plot_path = os.path.abspath('unstack')\n",
    "    plot_name = 'unstack'+key+'.png'\n",
    "    fig.savefig(os.path.join(plot_path, plot_name))"
   ]
  },
  {
   "cell_type": "code",
   "execution_count": null,
   "metadata": {},
   "outputs": [],
   "source": []
  }
 ],
 "metadata": {
  "kernelspec": {
   "display_name": "Python 3",
   "language": "python",
   "name": "python3"
  },
  "language_info": {
   "codemirror_mode": {
    "name": "ipython",
    "version": 3
   },
   "file_extension": ".py",
   "mimetype": "text/x-python",
   "name": "python",
   "nbconvert_exporter": "python",
   "pygments_lexer": "ipython3",
   "version": "3.6.5"
  }
 },
 "nbformat": 4,
 "nbformat_minor": 2
}
