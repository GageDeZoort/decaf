{
 "cells": [
  {
   "cell_type": "code",
   "execution_count": 1,
   "metadata": {},
   "outputs": [],
   "source": [
    "from __future__ import print_function, division\n",
    "from collections import defaultdict, OrderedDict\n",
    "import gzip\n",
    "import pickle\n",
    "import json\n",
    "import os\n",
    "import uproot\n",
    "import matplotlib.pyplot as plt\n",
    "%matplotlib inline\n",
    "import numpy as np\n",
    "from coffea import hist, processor \n",
    "from coffea.hist import plot\n",
    "from coffea.util import load, save"
   ]
  },
  {
   "cell_type": "code",
   "execution_count": 2,
   "metadata": {},
   "outputs": [],
   "source": [
    "hists = load('../hists/darkhiggs2018.scaled')\n",
    "\n",
    "data={\n",
    "    'sr': 'MET',\n",
    "    'wmcr': 'MET',\n",
    "    'tmcr': 'MET',\n",
    "    #wecr': 'SingleElectron',\n",
    "    'wecr': 'EGamma',\n",
    "    #'tecr': 'SingleElectron',\n",
    "    'tecr': 'EGamma',\n",
    "    'zmcr': 'MET',\n",
    "    #'zecr': 'SingleElectron',\n",
    "    'zecr': 'EGamma',\n",
    "    #'gcr': 'SinglePhoton'\n",
    "    'gcr': 'EGamma'\n",
    "}\n",
    "\n",
    "gentype_map = {\n",
    "    'garbage':  0,\n",
    "    'xbb':      1,\n",
    "    'tbcq':     2,\n",
    "    'tbqq':     3,\n",
    "    'zcc':      4,\n",
    "    'wcq':      5,\n",
    "    'vqq':      6,\n",
    "    'bb':       7,\n",
    "    'bc':       8,\n",
    "    'b':        9,\n",
    "    'cc' :     10,\n",
    "    'c':       11,\n",
    "    'other':   12\n",
    "}"
   ]
  },
  {
   "cell_type": "code",
   "execution_count": 3,
   "metadata": {},
   "outputs": [],
   "source": [
    "data_hists   = hists['data']\n",
    "bkg_hists    = hists['bkg']\n",
    "signal_hists = hists['sig']"
   ]
  },
  {
   "cell_type": "code",
   "execution_count": 4,
   "metadata": {},
   "outputs": [
    {
     "data": {
      "text/plain": [
       "[<StringBin (MET) instance at 0x7f45a483c710>,\n",
       " <StringBin (EGamma) instance at 0x7f45a483c7f0>]"
      ]
     },
     "execution_count": 4,
     "metadata": {},
     "output_type": "execute_result"
    }
   ],
   "source": [
    "data_hists['recoil'].identifiers('process')"
   ]
  },
  {
   "cell_type": "code",
   "execution_count": 7,
   "metadata": {},
   "outputs": [
    {
     "name": "stdout",
     "output_type": "stream",
     "text": [
      "------------------------\n",
      "------------------------\n",
      "Category: sr  \n",
      "Systematic: nominal\n",
      "------------------------\n",
      "------------------------\n",
      "Hbb 129.9\n",
      "DY+HF 84.8\n",
      "DY+LF 1388.8\n",
      "WW 2029.9\n",
      "WZ 3317.5\n",
      "ZZ 1999.2\n",
      "ST 1803.5\n",
      "TT 8004.5\n",
      "W+HF 15065.8\n",
      "W+LF 108950.2\n",
      "Z+HF 20418.0\n",
      "Z+LF 217034.5\n",
      "QCD 4115.8\n",
      "------------------------\n",
      "Total expected: 384342.5\n",
      "------------------------\n",
      "Mhs_50 5237.5\n",
      "Mhs_50 S/B 0.014\n",
      "Mhs_50 S/sqrt(B) 8.4\n",
      "------------------------\n",
      "Mhs_70 4497.4\n",
      "Mhs_70 S/B 0.012\n",
      "Mhs_70 S/sqrt(B) 7.3\n",
      "------------------------\n",
      "Mhs_90 3983.1\n",
      "Mhs_90 S/B 0.010\n",
      "Mhs_90 S/sqrt(B) 6.4\n",
      "------------------------\n",
      "MonoJet 40289.8\n",
      "MonoJet S/B 0.105\n",
      "MonoJet S/sqrt(B) 65.0\n",
      "------------------------\n",
      "MonoW 858.9\n",
      "MonoW S/B 0.002\n",
      "MonoW S/sqrt(B) 1.4\n",
      "------------------------\n",
      "MonoZ 272.2\n",
      "MonoZ S/B 0.001\n",
      "MonoZ S/sqrt(B) 0.4\n",
      "------------------------\n",
      "------------------------\n",
      "\n"
     ]
    }
   ],
   "source": [
    "exp = 0\n",
    "region = 'sr'\n",
    "mass_map = {\n",
    "    0 :'underflow', \n",
    "    1 :'mass0', \n",
    "    2 :'mass1', \n",
    "    3 :'mass2', \n",
    "    4 :'mass3', \n",
    "    5 :'mass4', \n",
    "    6 :'overflow',\n",
    "    None: ''\n",
    "}\n",
    "category_map = {\n",
    "    0 :'underflow', \n",
    "    1 :'monojet', \n",
    "    2 :'monohs',\n",
    "    3 :'overflow',\n",
    "    None : '',\n",
    "}\n",
    "\n",
    "mass= None\n",
    "category= None\n",
    "sys='nominal'\n",
    "\n",
    "print('------------------------')\n",
    "print('------------------------')\n",
    "print('Category:', region, mass_map[mass], category_map[category])\n",
    "print('Systematic:', sys)\n",
    "#print('------------------------')\n",
    "print('------------------------')\n",
    "print('------------------------')\n",
    "for p in bkg_hists['template'].identifiers('process'):\n",
    "    yld_array = bkg_hists['template'].integrate('region',region).integrate('process', p).integrate('systematic',sys).sum('gentype','recoil',overflow='all').values(overflow='all')\n",
    "    if () in yld_array:\n",
    "        yld = yld_array[()][mass,category].sum()\n",
    "        exp += yld\n",
    "        print(p, '%.1f' % yld)\n",
    "\n",
    "print('------------------------')\n",
    "print('Total expected:', '%.1f' % exp)\n",
    "print('------------------------')\n",
    "\n",
    "for p in signal_hists['template'].identifiers('process'):\n",
    "    yld_array = signal_hists['template'].integrate('region',region).integrate('process', p).integrate('systematic',sys).sum('gentype','recoil',overflow='all').values(overflow='all')\n",
    "    if () in yld_array:\n",
    "        yld = yld_array[()][mass,category].sum()\n",
    "        print(p, '%.1f' % yld)\n",
    "        print(p,'S/B %.3f' % (yld/exp))\n",
    "        print(p,'S/sqrt(B) %.1f' % (yld/np.sqrt(exp)))\n",
    "        #print(p,'Fraction %.2f' % (yld/np.cumsum(yld_array[()])[16]))\n",
    "        print('------------------------')\n",
    "\n",
    "if not region == 'sr':\n",
    "    yld_array = data_hists['template'].integrate('region',region).integrate('process', data[region]).integrate('systematic',sys).sum('gentype','recoil',overflow='all').values(overflow='all')\n",
    "    if () in yld_array:\n",
    "        yld = yld_array[()][mass,category].sum()\n",
    "        print('Total observed:', '%.1f' % yld)   \n",
    "print('------------------------')\n",
    "print()"
   ]
  },
  {
   "cell_type": "code",
   "execution_count": 117,
   "metadata": {},
   "outputs": [
    {
     "name": "stdout",
     "output_type": "stream",
     "text": [
      "------------------------\n",
      "------------------------\n",
      "Category: sr\n",
      "Systematic: nominal\n",
      "------------------------\n",
      "------------------------\n",
      "Hbb 129.9\n",
      "DY+HF 84.8\n",
      "DY+LF 1388.8\n",
      "WW 2029.9\n",
      "WZ 3317.5\n",
      "ZZ 1999.2\n",
      "ST 1803.5\n",
      "TT 8004.5\n",
      "W+HF 15065.8\n",
      "W+LF 108950.2\n",
      "Z+HF 20418.0\n",
      "Z+LF 217034.5\n",
      "QCD 4115.8\n",
      "------------------------\n",
      "Total expected: 384342.5\n",
      "------------------------\n",
      "Mhs_50 5237.5\n",
      "Mhs_50 S/B 0.014\n",
      "Mhs_50 S/sqrt(B) 8.4\n",
      "------------------------\n",
      "Mhs_70 4497.4\n",
      "Mhs_70 S/B 0.012\n",
      "Mhs_70 S/sqrt(B) 7.3\n",
      "------------------------\n",
      "Mhs_90 3983.1\n",
      "Mhs_90 S/B 0.010\n",
      "Mhs_90 S/sqrt(B) 6.4\n",
      "------------------------\n",
      "MonoJet 40289.8\n",
      "MonoJet S/B 0.105\n",
      "MonoJet S/sqrt(B) 65.0\n",
      "------------------------\n",
      "MonoW 858.9\n",
      "MonoW S/B 0.002\n",
      "MonoW S/sqrt(B) 1.4\n",
      "------------------------\n",
      "MonoZ 272.2\n",
      "MonoZ S/B 0.001\n",
      "MonoZ S/sqrt(B) 0.4\n",
      "------------------------\n",
      "------------------------\n",
      "\n"
     ]
    }
   ],
   "source": [
    "#To optimize cuts based on process yield, i.e. you wanna test some background rejection\n",
    "exp = 0\n",
    "region = 'sr'\n",
    "sys = 'nominal'\n",
    "variable = 'recoil'\n",
    "cut_bin = 0\n",
    "nbins = data_hists[variable].integrate('region').integrate('process', 'MET').sum('gentype',overflow='all').values(overflow='all')[()].size\n",
    "cut_value_array = data_hists[variable].integrate('region').integrate('process', 'MET').axis(variable).edges(overflow='all')\n",
    "\n",
    "print('------------------------')\n",
    "print('------------------------')\n",
    "print('Category:', region)\n",
    "print('Systematic:', sys)\n",
    "#print('------------------------')\n",
    "if cut_bin!=0: print(variable,'> %.2f' % cut_value_array[()][cut_bin])\n",
    "print('------------------------')\n",
    "print('------------------------')\n",
    "for p in bkg_hists[variable].identifiers('process'):\n",
    "    yld_array = bkg_hists[variable].integrate('region',region).integrate('process', p).sum('gentype',overflow='all').values(overflow='all')\n",
    "    if () in yld_array:\n",
    "        yld = np.cumsum(yld_array[()])[nbins-1] - np.cumsum(yld_array[()])[cut_bin]\n",
    "        exp += yld\n",
    "        print(p, '%.1f' % yld)\n",
    "\n",
    "print('------------------------')\n",
    "print('Total expected:', '%.1f' % exp)\n",
    "print('------------------------')\n",
    "\n",
    "for p in signal_hists[variable].identifiers('process'):\n",
    "    yld_array = signal_hists[variable].integrate('region',region).integrate('process', p).sum('gentype',overflow='all').values(overflow='all')\n",
    "    if () in yld_array:\n",
    "        yld = np.cumsum(yld_array[()])[nbins-1] - np.cumsum(yld_array[()])[cut_bin]\n",
    "        print(p, '%.1f' % yld)\n",
    "        print(p,'S/B %.3f' % (yld/exp))\n",
    "        print(p,'S/sqrt(B) %.1f' % (yld/np.sqrt(exp)))\n",
    "        #print(p,'Fraction %.2f' % (yld/np.cumsum(yld_array[()])[16]))\n",
    "        print('------------------------')\n",
    "\n",
    "if not region == 'sr':\n",
    "    yld_array = data_hists[variable].integrate('region',region).integrate('process', data[region]).sum('gentype',overflow='all').values(overflow='all')\n",
    "    if () in yld_array:\n",
    "        yld = np.cumsum(yld_array[()])[nbins-1] - np.cumsum(yld_array[()])[cut_bin]\n",
    "        print('Total observed:', '%.1f' % yld)   \n",
    "print('------------------------')\n",
    "print()"
   ]
  },
  {
   "cell_type": "code",
   "execution_count": 118,
   "metadata": {},
   "outputs": [
    {
     "name": "stdout",
     "output_type": "stream",
     "text": [
      "------------------------\n",
      "------------------------\n",
      "Category: sr\n",
      "Systematic: nominal\n",
      "ZHbbvsQCD > 0.67\n",
      "------------------------\n",
      "------------------------\n",
      "garbage 0.000\n",
      "xbb 0.844\n",
      "tbcq 0.615\n",
      "tbqq 0.479\n",
      "zcc 0.331\n",
      "wcq 0.158\n",
      "vqq 0.044\n",
      "bb 0.739\n",
      "bc 0.679\n",
      "b 0.512\n",
      "cc 0.205\n",
      "c 0.126\n",
      "other 0.049\n",
      "------------------------\n",
      "\n"
     ]
    }
   ],
   "source": [
    "#To optimize cuts based on gentype yield, i.e. define fat-jet tagger pass/fail \n",
    "exp = 0\n",
    "region = 'sr'\n",
    "variable = 'ZHbbvsQCD'\n",
    "cut_bin = 10\n",
    "nbins = data_hists[variable].integrate('region').integrate('process', 'MET').sum('gentype').values()[()].size\n",
    "cut_value_array = data_hists[variable].integrate('region').integrate('process', 'MET').axis(variable).edges()\n",
    "\n",
    "print('------------------------')\n",
    "print('------------------------')\n",
    "print('Category:', region)\n",
    "print('Systematic:', sys)\n",
    "#print('------------------------')\n",
    "if cut_bin!=0: print(variable,'> %.2f' % cut_value_array[()][cut_bin])\n",
    "print('------------------------')\n",
    "print('------------------------')\n",
    "for g in gentype_map.keys():\n",
    "    yld_array = bkg_hists[variable].integrate('region',region).integrate('process').values()[()][gentype_map[g]]\n",
    "    yld = np.cumsum(yld_array[()])[nbins-1] - np.cumsum(yld_array[()])[cut_bin]\n",
    "    tot = bkg_hists[variable].integrate('region',region).integrate('process').sum(variable).values()[()][gentype_map[g]]\n",
    "    eff = np.nan_to_num(yld/tot)\n",
    "    print(g, '%.3f' % eff)\n",
    "print('------------------------')\n",
    "print()"
   ]
  },
  {
   "cell_type": "code",
   "execution_count": 119,
   "metadata": {},
   "outputs": [],
   "source": [
    "#Calculating pass/fail efficiencies \n",
    "deepak15_pass_eff={}\n",
    "num={}\n",
    "den={}\n",
    "for g in gentype_map.keys():\n",
    "    vnum = bkg_hists['template'].integrate('systematic','nominal').integrate('region','sr').integrate('process').sum('recoil','fjmass',overflow='all').values()[()][gentype_map[g]][1]\n",
    "    vden = bkg_hists['template'].integrate('systematic','nominal').integrate('region','sr').integrate('process').sum('recoil','fjmass','ZHbbvsQCD',overflow='all').values()[()][gentype_map[g]]\n",
    "    deepak15_pass_eff[str(g)]=vnum/vden\n"
   ]
  },
  {
   "cell_type": "code",
   "execution_count": 120,
   "metadata": {},
   "outputs": [
    {
     "data": {
      "text/plain": [
       "{'garbage': 0.0,\n",
       " 'xbb': 0.875943725602482,\n",
       " 'tbcq': 0.6811427162841853,\n",
       " 'tbqq': 0.5535870855403394,\n",
       " 'zcc': 0.42019855215469515,\n",
       " 'wcq': 0.20132214357045247,\n",
       " 'vqq': 0.05819161579783605,\n",
       " 'bb': 0.7846713781802599,\n",
       " 'bc': 0.7059892718477718,\n",
       " 'b': 0.5879998065245133,\n",
       " 'cc': 0.25579181005973156,\n",
       " 'c': 0.1577886537251151,\n",
       " 'other': 0.055898893207557275}"
      ]
     },
     "execution_count": 120,
     "metadata": {},
     "output_type": "execute_result"
    }
   ],
   "source": [
    "deepak15_pass_eff"
   ]
  },
  {
   "cell_type": "code",
   "execution_count": null,
   "metadata": {},
   "outputs": [],
   "source": [
    "file='../data/deepak15_pass_eff.json'\n",
    "with open(file, \"w\") as fout:\n",
    "    json.dump(deepak15_pass_eff, fout, indent=4)"
   ]
  },
  {
   "cell_type": "code",
   "execution_count": null,
   "metadata": {},
   "outputs": [],
   "source": [
    "#Measuring W+jets HF fraction\n",
    "WHF_wmcr = bkg_hists['recoil'].integrate('systematic','nominal').integrate('region','wmcr').integrate('process', 'W+HF').values()[()].sum()\n",
    "WHF_wecr = bkg_hists['recoil'].integrate('systematic','nominal').integrate('region','wecr').integrate('process', 'W+HF').values()[()].sum()\n",
    "WHF_tmcr = bkg_hists['recoil'].integrate('systematic','nominal').integrate('region','tmcr').integrate('process', 'W+HF').values()[()].sum()\n",
    "WHF_tecr = bkg_hists['recoil'].integrate('systematic','nominal').integrate('region','tecr').integrate('process', 'W+HF').values()[()].sum()\n",
    "WLF_wmcr = bkg_hists['recoil'].integrate('systematic','nominal').integrate('region','wmcr').integrate('process', 'W+LF').values()[()].sum()\n",
    "WLF_wecr = bkg_hists['recoil'].integrate('systematic','nominal').integrate('region','wecr').integrate('process', 'W+LF').values()[()].sum()\n",
    "WLF_tmcr = bkg_hists['recoil'].integrate('systematic','nominal').integrate('region','tmcr').integrate('process', 'W+LF').values()[()].sum()\n",
    "WLF_tecr = bkg_hists['recoil'].integrate('systematic','nominal').integrate('region','tecr').integrate('process', 'W+LF').values()[()].sum()\n",
    "\n",
    "WHF_tot = WHF_wmcr+WHF_wecr+WHF_tmcr+WHF_tecr\n",
    "WLF_tot = WLF_wmcr+WLF_wecr+WLF_tmcr+WLF_tecr\n",
    "\n",
    "whf_fraction = WHF_tot/(WHF_tot+WLF_tot)"
   ]
  },
  {
   "cell_type": "code",
   "execution_count": null,
   "metadata": {},
   "outputs": [],
   "source": [
    "whf_fraction"
   ]
  },
  {
   "cell_type": "code",
   "execution_count": null,
   "metadata": {},
   "outputs": [],
   "source": [
    "#Measuring Z+jets HF fraction\n",
    "ZHF_zmcr = bkg_hists['recoil'].integrate('systematic','nominal').integrate('region','zmcr').integrate('process', 'DY+HF').values()[()].sum()\n",
    "ZHF_zecr = bkg_hists['recoil'].integrate('systematic','nominal').integrate('region','zecr').integrate('process', 'DY+HF').values()[()].sum()\n",
    "ZLF_zmcr = bkg_hists['recoil'].integrate('systematic','nominal').integrate('region','zmcr').integrate('process', 'DY+LF').values()[()].sum()\n",
    "ZLF_zecr = bkg_hists['recoil'].integrate('systematic','nominal').integrate('region','zecr').integrate('process', 'DY+LF').values()[()].sum()\n",
    "\n",
    "ZHF_tot = ZHF_zmcr+ZHF_zecr\n",
    "ZLF_tot = ZLF_zmcr+ZLF_zecr\n",
    "\n",
    "zhf_fraction = ZHF_tot/(ZHF_tot+ZLF_tot)"
   ]
  },
  {
   "cell_type": "code",
   "execution_count": null,
   "metadata": {},
   "outputs": [],
   "source": [
    "zhf_fraction"
   ]
  },
  {
   "cell_type": "code",
   "execution_count": null,
   "metadata": {},
   "outputs": [],
   "source": [
    "#Measuring gamma+jets HF fraction\n",
    "GHF_gcr = bkg_hists['recoil'].integrate('systematic','nominal').integrate('region','gcr').integrate('process', 'G+HF').values()[()].sum()\n",
    "GLF_gcr = bkg_hists['recoil'].integrate('systematic','nominal').integrate('region','gcr').integrate('process', 'G+LF').values()[()].sum()\n",
    "\n",
    "ghf_fraction = GHF_gcr/(GHF_gcr+GLF_gcr)"
   ]
  },
  {
   "cell_type": "code",
   "execution_count": null,
   "metadata": {},
   "outputs": [],
   "source": [
    "ghf_fraction"
   ]
  },
  {
   "cell_type": "code",
   "execution_count": null,
   "metadata": {},
   "outputs": [],
   "source": [
    "#Measuring ak4 0-tag efficiency per process per gentype\n",
    "#Interested just in the overall rate effect, to estimate how the application of the ak4 b-tagging requirement \n",
    "#changes the relative fraction of the single components per process.\n",
    "#Effect hasd been checked, and the efficiency does not depend on the recoil values (modulo stat fluctuations)\n",
    "\n",
    "deepak4_0tag_eff = {}\n",
    "for p in bkg_hists['recoil'].integrate('region','wmcr').identifiers('process'):\n",
    "    deepak4_0tag_eff[str(p)]={}\n",
    "    for g in gentype_map.keys():\n",
    "        wmcr = bkg_hists['recoil'].integrate('systematic','nominal').integrate('region','wmcr').integrate('process', p).sum('recoil').values()[()][gentype_map[g]]\n",
    "        wecr = bkg_hists['recoil'].integrate('systematic','nominal').integrate('region','wecr').integrate('process', p).sum('recoil').values()[()][gentype_map[g]]\n",
    "        tmcr = bkg_hists['recoil'].integrate('systematic','nominal').integrate('region','tmcr').integrate('process', p).sum('recoil').values()[()][gentype_map[g]]\n",
    "        tecr = bkg_hists['recoil'].integrate('systematic','nominal').integrate('region','tecr').integrate('process', p).sum('recoil').values()[()][gentype_map[g]]\n",
    "        eff = np.nan_to_num((wmcr+wecr)/(wmcr+wecr+tmcr+tecr))\n",
    "        if eff != 0.0: \n",
    "            deepak4_0tag_eff[str(p)][str(g)] = eff.tolist()\n",
    "            print(str(p),str(g),deepak4_0tag_eff[str(p)][str(g)])"
   ]
  },
  {
   "cell_type": "code",
   "execution_count": null,
   "metadata": {},
   "outputs": [],
   "source": [
    "deepak4_0tag_eff"
   ]
  },
  {
   "cell_type": "code",
   "execution_count": null,
   "metadata": {},
   "outputs": [],
   "source": [
    "file='../data/deepak4_0tag_eff.json'\n",
    "with open(file, \"w\") as fout:\n",
    "    json.dump(deepak4_0tag_eff, fout, indent=4)"
   ]
  },
  {
   "cell_type": "code",
   "execution_count": null,
   "metadata": {},
   "outputs": [],
   "source": [
    "#Measuring ak4 0-tag efficiency per process, inclusive per gentyope\n",
    "\n",
    "deepak4_0tag_process_eff = {}\n",
    "for p in bkg_hists['recoil'].integrate('region','wmcr').identifiers('process'):\n",
    "    wmcr = bkg_hists['recoil'].integrate('systematic','nominal').integrate('region','wmcr').integrate('process', p).values()[()].sum()\n",
    "    wecr = bkg_hists['recoil'].integrate('systematic','nominal').integrate('region','wecr').integrate('process', p).values()[()].sum()\n",
    "    tmcr = bkg_hists['recoil'].integrate('systematic','nominal').integrate('region','tmcr').integrate('process', p).values()[()].sum()\n",
    "    tecr = bkg_hists['recoil'].integrate('systematic','nominal').integrate('region','tecr').integrate('process', p).values()[()].sum()\n",
    "    eff = np.nan_to_num((wmcr+wecr)/(wmcr+wecr+tmcr+tecr))\n",
    "    if eff != 0.0: \n",
    "        deepak4_0tag_process_eff[str(p)] = np.nan_to_num((wmcr+wecr)/(wmcr+wecr+tmcr+tecr))\n",
    "        print(str(p),deepak4_0tag_process_eff[str(p)])"
   ]
  },
  {
   "cell_type": "code",
   "execution_count": null,
   "metadata": {},
   "outputs": [],
   "source": [
    "deepak4_0tag_process_eff"
   ]
  },
  {
   "cell_type": "code",
   "execution_count": null,
   "metadata": {},
   "outputs": [],
   "source": [
    "file='../data/deepak4_0tag_process_eff.json'\n",
    "with open(file, \"w\") as fout:\n",
    "    json.dump(deepak4_0tag_process_eff, fout, indent=4)"
   ]
  },
  {
   "cell_type": "code",
   "execution_count": null,
   "metadata": {},
   "outputs": [],
   "source": [
    "#Measuring ak4 0-tag efficiency for inclusive Z+jets\n",
    "DYHF_wmcr = bkg_hists['recoil'].integrate('systematic','nominal').integrate('region','wmcr').integrate('process', 'DY+HF').values()[()].sum()\n",
    "DYHF_wecr = bkg_hists['recoil'].integrate('systematic','nominal').integrate('region','wecr').integrate('process', 'DY+HF').values()[()].sum()\n",
    "DYHF_tmcr = bkg_hists['recoil'].integrate('systematic','nominal').integrate('region','tmcr').integrate('process', 'DY+HF').values()[()].sum()\n",
    "DYHF_tecr = bkg_hists['recoil'].integrate('systematic','nominal').integrate('region','tecr').integrate('process', 'DY+HF').values()[()].sum()\n",
    "DYLF_wmcr = bkg_hists['recoil'].integrate('systematic','nominal').integrate('region','wmcr').integrate('process', 'DY+LF').values()[()].sum()\n",
    "DYLF_wecr = bkg_hists['recoil'].integrate('systematic','nominal').integrate('region','wecr').integrate('process', 'DY+LF').values()[()].sum()\n",
    "DYLF_tmcr = bkg_hists['recoil'].integrate('systematic','nominal').integrate('region','tmcr').integrate('process', 'DY+LF').values()[()].sum()\n",
    "DYLF_tecr = bkg_hists['recoil'].integrate('systematic','nominal').integrate('region','tecr').integrate('process', 'DY+LF').values()[()].sum()\n",
    "\n",
    "zerotag_tot = DYHF_wmcr+DYHF_wecr+DYLF_wmcr+DYLF_wecr\n",
    "onetag_tot = DYHF_tmcr+DYHF_tecr+DYLF_tmcr+DYLF_tecr\n",
    "\n",
    "deepak4_0tag_zj_eff = zerotag_tot/(zerotag_tot+onetag_tot)"
   ]
  },
  {
   "cell_type": "code",
   "execution_count": null,
   "metadata": {},
   "outputs": [],
   "source": [
    "deepak4_0tag_zj_eff"
   ]
  },
  {
   "cell_type": "code",
   "execution_count": null,
   "metadata": {},
   "outputs": [],
   "source": [
    "#Measuring ak4 0-tag efficiency for inclusive W+jets\n",
    "WHF_wmcr = bkg_hists['recoil'].integrate('systematic','nominal').integrate('region','wmcr').integrate('process', 'W+HF').values()[()].sum()\n",
    "WHF_wecr = bkg_hists['recoil'].integrate('systematic','nominal').integrate('region','wecr').integrate('process', 'W+HF').values()[()].sum()\n",
    "WHF_tmcr = bkg_hists['recoil'].integrate('systematic','nominal').integrate('region','tmcr').integrate('process', 'W+HF').values()[()].sum()\n",
    "WHF_tecr = bkg_hists['recoil'].integrate('systematic','nominal').integrate('region','tecr').integrate('process', 'W+HF').values()[()].sum()\n",
    "WLF_wmcr = bkg_hists['recoil'].integrate('systematic','nominal').integrate('region','wmcr').integrate('process', 'W+LF').values()[()].sum()\n",
    "WLF_wecr = bkg_hists['recoil'].integrate('systematic','nominal').integrate('region','wecr').integrate('process', 'W+LF').values()[()].sum()\n",
    "WLF_tmcr = bkg_hists['recoil'].integrate('systematic','nominal').integrate('region','tmcr').integrate('process', 'W+LF').values()[()].sum()\n",
    "WLF_tecr = bkg_hists['recoil'].integrate('systematic','nominal').integrate('region','tecr').integrate('process', 'W+LF').values()[()].sum()\n",
    "\n",
    "zerotag_tot = WHF_wmcr+WHF_wecr+WLF_wmcr+WLF_wecr\n",
    "onetag_tot = WHF_tmcr+WHF_tecr+WLF_tmcr+WLF_tecr\n",
    "\n",
    "deepak4_0tag_wj_eff = zerotag_tot/(zerotag_tot+onetag_tot)"
   ]
  },
  {
   "cell_type": "code",
   "execution_count": null,
   "metadata": {},
   "outputs": [],
   "source": [
    "deepak4_0tag_wj_eff"
   ]
  },
  {
   "cell_type": "code",
   "execution_count": null,
   "metadata": {},
   "outputs": [],
   "source": [
    "#measuring signal absolute fractions\n",
    "abs_signal_fractions = {}\n",
    "for p in signal_hists['recoil'].identifiers('process'):\n",
    "    abs_signal_fractions[str(p)]={}\n",
    "    for g in gentype_map.keys():\n",
    "        num_sr = signal_hists['recoil'].integrate('systematic','nominal').integrate('region','sr').integrate('process', p).sum('recoil').values()[()][gentype_map[g]]\n",
    "        den_sr = signal_hists['recoil'].integrate('systematic','nominal').integrate('region','sr').integrate('process', p).values()[()].sum()\n",
    "        frac = np.nan_to_num((num_sr)/(den_sr))\n",
    "        if frac != 0.0:\n",
    "            abs_signal_fractions[str(p)][str(g)] = frac\n",
    "            print(str(p),str(g),abs_signal_fractions[str(p)][str(g)])"
   ]
  },
  {
   "cell_type": "code",
   "execution_count": null,
   "metadata": {},
   "outputs": [],
   "source": [
    "abs_signal_fractions"
   ]
  },
  {
   "cell_type": "code",
   "execution_count": null,
   "metadata": {},
   "outputs": [],
   "source": [
    "file='../data/abs_signal_fractions.json'\n",
    "with open(file, \"w\") as fout:\n",
    "    json.dump(abs_signal_fractions, fout, indent=4)"
   ]
  },
  {
   "cell_type": "code",
   "execution_count": null,
   "metadata": {},
   "outputs": [],
   "source": [
    "#measuring signal fractions modulation with mass\n",
    "mass_signal_fractions_modulation = {}\n",
    "for p in signal_hists['recoil'].identifiers('process'):\n",
    "    mass_signal_fractions_modulation[str(p)]={}\n",
    "    for g in gentype_map.keys():\n",
    "        den_sr = signal_hists['recoil'].integrate('systematic','nominal').integrate('region','sr').integrate('process', p).sum('recoil').values()[()][gentype_map[g]]\n",
    "        if den_sr != 0.0: mass_signal_fractions_modulation[str(p)][str(g)]={}\n",
    "        for m in ['mass0','mass1','mass2','mass3','mass4']:\n",
    "            num_sr = signal_hists['recoil'].integrate('systematic','nominal').integrate('region','sr_'+m).integrate('process', p).sum('recoil').values()[()][gentype_map[g]]\n",
    "            frac = np.nan_to_num(num_sr/den_sr)\n",
    "            if g in mass_signal_fractions_modulation[str(p)]:\n",
    "                mass_signal_fractions_modulation[str(p)][str(g)][m] = frac\n",
    "                print(str(p),str(g),m,mass_signal_fractions_modulation[str(p)][str(g)][m])"
   ]
  },
  {
   "cell_type": "code",
   "execution_count": null,
   "metadata": {},
   "outputs": [],
   "source": [
    "mass_signal_fractions_modulation"
   ]
  },
  {
   "cell_type": "code",
   "execution_count": null,
   "metadata": {},
   "outputs": [],
   "source": [
    "file='../data/mass_signal_fractions_modulation.json'\n",
    "with open(file, \"w\") as fout:\n",
    "    json.dump(mass_signal_fractions_modulation, fout, indent=4)"
   ]
  },
  {
   "cell_type": "code",
   "execution_count": null,
   "metadata": {},
   "outputs": [],
   "source": [
    "#measuring background absolute fractions\n",
    "abs_bkg_fractions = {}\n",
    "for p in bkg_hists['recoil'].integrate('region','wmcr').identifiers('process'):\n",
    "    abs_bkg_fractions[str(p)]={}\n",
    "    for g in gentype_map.keys():\n",
    "        num_wmcr = bkg_hists['recoil'].integrate('systematic','nominal').integrate('region','wmcr').integrate('process', p).sum('recoil').values()[()][gentype_map[g]]\n",
    "        num_wecr = bkg_hists['recoil'].integrate('systematic','nominal').integrate('region','wecr').integrate('process', p).sum('recoil').values()[()][gentype_map[g]]\n",
    "        num_tmcr = bkg_hists['recoil'].integrate('systematic','nominal').integrate('region','tmcr').integrate('process', p).sum('recoil').values()[()][gentype_map[g]]\n",
    "        num_tecr = bkg_hists['recoil'].integrate('systematic','nominal').integrate('region','tecr').integrate('process', p).sum('recoil').values()[()][gentype_map[g]]\n",
    "        den_wmcr = bkg_hists['recoil'].integrate('systematic','nominal').integrate('region','wmcr').integrate('process', p).values()[()].sum()\n",
    "        den_wecr = bkg_hists['recoil'].integrate('systematic','nominal').integrate('region','wecr').integrate('process', p).values()[()].sum()\n",
    "        den_tmcr = bkg_hists['recoil'].integrate('systematic','nominal').integrate('region','tmcr').integrate('process', p).values()[()].sum()\n",
    "        den_tecr = bkg_hists['recoil'].integrate('systematic','nominal').integrate('region','tecr').integrate('process', p).values()[()].sum()\n",
    "        frac = np.nan_to_num((num_wmcr+num_wecr+num_tmcr+num_tecr)/(den_wmcr+den_wecr+den_tmcr+den_tecr))\n",
    "        if frac != 0.0:\n",
    "            abs_bkg_fractions[str(p)][str(g)] = frac\n",
    "            print(str(p),str(g),abs_bkg_fractions[str(p)][str(g)])"
   ]
  },
  {
   "cell_type": "code",
   "execution_count": null,
   "metadata": {},
   "outputs": [],
   "source": [
    "abs_bkg_fractions"
   ]
  },
  {
   "cell_type": "code",
   "execution_count": null,
   "metadata": {},
   "outputs": [],
   "source": [
    "#measuring G+jets absolute fractions\n",
    "abs_gj_fractions = {}\n",
    "for p in ['G+HF','G+LF']:\n",
    "    abs_gj_fractions[str(p)]={}\n",
    "    for g in gentype_map.keys():\n",
    "        num_gcr = bkg_hists['recoil'].integrate('systematic','nominal').integrate('region','gcr').integrate('process', p).sum('recoil').values()[()][gentype_map[g]]\n",
    "        den_gcr = bkg_hists['recoil'].integrate('systematic','nominal').integrate('region','gcr').integrate('process', p).values()[()].sum()\n",
    "        frac = np.nan_to_num(num_gcr/den_gcr)\n",
    "        if frac != 0.0:\n",
    "            abs_gj_fractions[str(p)][str(g)] = np.nan_to_num((num_gcr[()].sum())/(den_gcr[()].sum()))\n",
    "            print(str(p),str(g),abs_gj_fractions[str(p)][str(g)])"
   ]
  },
  {
   "cell_type": "code",
   "execution_count": null,
   "metadata": {},
   "outputs": [],
   "source": [
    "abs_gj_fractions"
   ]
  },
  {
   "cell_type": "code",
   "execution_count": null,
   "metadata": {},
   "outputs": [],
   "source": [
    "abs_bkg_fractions_tot=abs_bkg_fractions\n",
    "abs_bkg_fractions_tot.update(abs_gj_fractions)"
   ]
  },
  {
   "cell_type": "code",
   "execution_count": null,
   "metadata": {},
   "outputs": [],
   "source": [
    "abs_bkg_fractions_tot"
   ]
  },
  {
   "cell_type": "code",
   "execution_count": null,
   "metadata": {},
   "outputs": [],
   "source": [
    "file='../data/abs_bkg_fractions_tot.json'\n",
    "with open(file, \"w\") as fout:\n",
    "    json.dump(abs_bkg_fractions_tot, fout, indent=4)"
   ]
  },
  {
   "cell_type": "code",
   "execution_count": null,
   "metadata": {},
   "outputs": [],
   "source": [
    "#measuring background fraction modulation with mass\n",
    "mass_bkg_fractions_modulation = {}\n",
    "for p in bkg_hists['recoil'].integrate('region','wmcr').identifiers('process'):\n",
    "    mass_bkg_fractions_modulation[str(p)]={}\n",
    "    for g in gentype_map.keys():\n",
    "        den_wmcr = bkg_hists['recoil'].integrate('systematic','nominal').integrate('region','wmcr').integrate('process', p).sum('recoil').values()[()][gentype_map[g]]\n",
    "        den_wecr = bkg_hists['recoil'].integrate('systematic','nominal').integrate('region','wecr').integrate('process', p).sum('recoil').values()[()][gentype_map[g]]\n",
    "        den_tmcr = bkg_hists['recoil'].integrate('systematic','nominal').integrate('region','tmcr').integrate('process', p).sum('recoil').values()[()][gentype_map[g]]\n",
    "        den_tecr = bkg_hists['recoil'].integrate('systematic','nominal').integrate('region','tecr').integrate('process', p).sum('recoil').values()[()][gentype_map[g]]\n",
    "        den = den_wmcr+den_wecr+den_tmcr+den_tecr\n",
    "        if den != 0.0: mass_bkg_fractions_modulation[str(p)][str(g)]={}\n",
    "        for m in ['mass0','mass1','mass2','mass3','mass4']:\n",
    "            num_wmcr = bkg_hists['recoil'].integrate('systematic','nominal').integrate('region','wmcr_'+m).integrate('process', p).sum('recoil').values()[()][gentype_map[g]]\n",
    "            num_wecr = bkg_hists['recoil'].integrate('systematic','nominal').integrate('region','wecr_'+m).integrate('process', p).sum('recoil').values()[()][gentype_map[g]]\n",
    "            num_tmcr = bkg_hists['recoil'].integrate('systematic','nominal').integrate('region','tmcr_'+m).integrate('process', p).sum('recoil').values()[()][gentype_map[g]]\n",
    "            num_tecr = bkg_hists['recoil'].integrate('systematic','nominal').integrate('region','tecr_'+m).integrate('process', p).sum('recoil').values()[()][gentype_map[g]]\n",
    "            frac = np.nan_to_num((num_wmcr+num_wecr+num_tmcr+num_tecr)/den)\n",
    "            if g in mass_bkg_fractions_modulation[str(p)]:\n",
    "                mass_bkg_fractions_modulation[str(p)][str(g)][m] = frac\n",
    "                print(str(p),str(g),m,mass_bkg_fractions_modulation[str(p)][str(g)][m])"
   ]
  },
  {
   "cell_type": "code",
   "execution_count": null,
   "metadata": {},
   "outputs": [],
   "source": [
    "mass_bkg_fractions_modulation"
   ]
  },
  {
   "cell_type": "code",
   "execution_count": null,
   "metadata": {},
   "outputs": [],
   "source": [
    "#measuring fraction modulation with mass for G+jets\n",
    "mass_gj_fractions_modulation = {}\n",
    "for p in ['G+HF','G+LF']:\n",
    "    mass_gj_fractions_modulation[str(p)]={}\n",
    "    for g in gentype_map.keys():\n",
    "        den_gcr = bkg_hists['recoil'].integrate('systematic','nominal').integrate('region','gcr').integrate('process', p).sum('recoil').values()[()][gentype_map[g]]\n",
    "        if den_gcr != 0.0: mass_gj_fractions_modulation[str(p)][str(g)]={}\n",
    "        for m in ['mass0','mass1','mass2','mass3','mass4']:\n",
    "            num_gcr = bkg_hists['recoil'].integrate('systematic','nominal').integrate('region','gcr_'+m).integrate('process', p).sum('recoil').values()[()][gentype_map[g]]\n",
    "            frac = np.nan_to_num(num_gcr/den_gcr)\n",
    "            if g in mass_gj_fractions_modulation[str(p)]:\n",
    "                mass_gj_fractions_modulation[str(p)][str(g)][m] = np.nan_to_num((num_gcr[()].sum())/(den_gcr[()].sum()))\n",
    "                print(str(p),str(g),m,mass_gj_fractions_modulation[str(p)][str(g)][m])"
   ]
  },
  {
   "cell_type": "code",
   "execution_count": null,
   "metadata": {},
   "outputs": [],
   "source": [
    "mass_gj_fractions_modulation"
   ]
  },
  {
   "cell_type": "code",
   "execution_count": null,
   "metadata": {},
   "outputs": [],
   "source": [
    "mass_bkg_fractions_modulation_tot=mass_bkg_fractions_modulation\n",
    "mass_bkg_fractions_modulation_tot.update(mass_gj_fractions_modulation)"
   ]
  },
  {
   "cell_type": "code",
   "execution_count": null,
   "metadata": {},
   "outputs": [],
   "source": [
    "mass_bkg_fractions_modulation_tot"
   ]
  },
  {
   "cell_type": "code",
   "execution_count": null,
   "metadata": {},
   "outputs": [],
   "source": [
    "file='../data/mass_bkg_fractions_modulation_tot.json'\n",
    "with open(file, \"w\") as fout:\n",
    "    json.dump(mass_bkg_fractions_modulation_tot, fout, indent=4)"
   ]
  },
  {
   "cell_type": "code",
   "execution_count": null,
   "metadata": {},
   "outputs": [],
   "source": [
    "#measuring fraction gradient of single gentypes in different mass bins\n",
    "#to confirm that the variation is consistent with 1, considering statistical fluctuations\n",
    "recoil_gradient_bkg_fractions = {}\n",
    "for p in bkg_hists['recoil'].integrate('region','wmcr').identifiers('process'):\n",
    "    recoil_gradient_bkg_fractions[str(p)]={}\n",
    "    for g in gentype_map.keys():\n",
    "        num_wmcr = bkg_hists['recoil'].integrate('systematic','nominal').integrate('region','wmcr').integrate('process', p).values()[()][gentype_map[g]]\n",
    "        num_wecr = bkg_hists['recoil'].integrate('systematic','nominal').integrate('region','wecr').integrate('process', p).values()[()][gentype_map[g]]\n",
    "        num_tmcr = bkg_hists['recoil'].integrate('systematic','nominal').integrate('region','tmcr').integrate('process', p).values()[()][gentype_map[g]]\n",
    "        num_tecr = bkg_hists['recoil'].integrate('systematic','nominal').integrate('region','tecr').integrate('process', p).values()[()][gentype_map[g]]\n",
    "        den_wmcr = bkg_hists['recoil'].integrate('systematic','nominal').integrate('region','wmcr').integrate('process', p).sum('gentype').values()[()]\n",
    "        den_wecr = bkg_hists['recoil'].integrate('systematic','nominal').integrate('region','wecr').integrate('process', p).sum('gentype').values()[()]\n",
    "        den_tmcr = bkg_hists['recoil'].integrate('systematic','nominal').integrate('region','tmcr').integrate('process', p).sum('gentype').values()[()]\n",
    "        den_tecr = bkg_hists['recoil'].integrate('systematic','nominal').integrate('region','tecr').integrate('process', p).sum('gentype').values()[()]\n",
    "        num = (num_wmcr+num_wecr+num_tmcr+num_tecr)\n",
    "        num_norm = (num_wmcr+num_wecr+num_tmcr+num_tecr).sum()\n",
    "        den = (den_wmcr+den_wecr+den_tmcr+den_tecr)\n",
    "        den_norm = (den_wmcr+den_wecr+den_tmcr+den_tecr).sum()\n",
    "        if num_norm != 0.0:\n",
    "            frac = abs(np.nan_to_num((num/num_norm)/(den/den_norm))).tolist()\n",
    "            recoil_gradient_bkg_fractions[str(p)][str(g)] = frac\n",
    "            print(str(p),str(g),recoil_gradient_bkg_fractions[str(p)][str(g)])"
   ]
  },
  {
   "cell_type": "code",
   "execution_count": null,
   "metadata": {},
   "outputs": [],
   "source": [
    "#http://colorbrewer2.org/#type=qualitative&scheme=Paired&n=6 : colors\n",
    "from cycler import cycler\n",
    "\n",
    "region = 'zmcr'\n",
    "sys = 'nominal'\n",
    "data={}\n",
    "data['sr'] = 'MET'\n",
    "data['wmcr'] = 'MET'\n",
    "data['tmcr'] = 'MET'\n",
    "#data['wecr'] = 'SingleElectron'\n",
    "data['wecr'] = 'EGamma'\n",
    "#data['tecr'] = 'SingleElectron'\n",
    "data['tecr'] = 'EGamma'\n",
    "data['zmcr'] = 'MET'\n",
    "#data['zecr'] = 'SingleElectron'\n",
    "data['zecr'] = 'EGamma'\n",
    "#data['gcr'] = 'SinglePhoton'\n",
    "data['gcr'] = 'EGamma'\n",
    "\n",
    "\n",
    "\n",
    "if not os.path.exists('../plots'):\n",
    "    os.makedirs('../plots')\n",
    "R = {}\n",
    "R['sr'] = 'Signal Region'\n",
    "R['wmcr'] = 'Single Muon W CR'\n",
    "R['tmcr'] = 'Single Muon Top CR'\n",
    "R['wecr'] = 'Single Electron W CR'\n",
    "R['tecr'] = 'Single Electron Top CR'\n",
    "R['zecr'] = 'Double Electron Z CR'\n",
    "R['zmcr'] = 'Double Muon Z CR'\n",
    "R['gcr'] = 'Single Photno CR'\n",
    "\n",
    "sys = 'nominal'\n",
    "\n",
    "for key in bkg_hists.keys():\n",
    "    #print(key)\n",
    "    if key=='sumw': continue\n",
    "    if key=='template': continue\n",
    "    for j in bkg_hists[key].identifiers('region'):\n",
    "        if not (str(j) == region): continue\n",
    "        if str(j) == 'wmcr' or str(j) == 'tmcr' or str(j) == 'zmcr' or str(j) == 'gcr':\n",
    "            if key == 'e1pt' or key == 'e1eta' or key == 'e1phi': continue\n",
    "        if str(j) == 'wecr' or str(j) == 'tecr' or str(j) == 'zecr' or str(j) == 'gcr':\n",
    "            if key == 'mu1pt' or key == 'mu1eta' or key == 'mu1phi': continue\n",
    "        print(key)\n",
    "        plt.rcParams.update({'figure.max_open_warning': 0,'font.size': 14, 'axes.titlesize': 18, 'axes.labelsize': 18, 'xtick.labelsize': 12, 'ytick.labelsize': 12})\n",
    "        fill_opts = {'edgecolor': (0,0,0,0.3), 'alpha': 1}\n",
    "        error_opts = {'label':'Stat. Unc.', 'hatch':'///', 'facecolor':'none', 'edgecolor':(0,0,0,.5), 'linewidth': 0}\n",
    "        nostack_fill_opts = {'alpha': 0.2, 'label': '_nolabel_'}\n",
    "        data_err_opts = {'linestyle':'None', 'marker': '.', 'markersize': 10., 'color':'k'}#, 'elinewidth': 1, 'emarker': '_'}\n",
    "        #colors = ['#a6cee3','#1f78b4','#b2df8a','#33a02c','#fb9a99','#e31a1c']\n",
    "        colors = ['#a6cee3', '#3130db', '#1f78b4', '#b2df8a', '#48e926', '#33a02c', '#c0df26',\n",
    "                  '#fb9a99', '#d02ba7', '#e31a1c', '#fdbf6f', '#ff7f00', '#cab2d6', '#c64bc4',\n",
    "                  '#6a3d9a', '#a9ce26', '#ffff99', '#b15928', '#edcc43']\n",
    "\n",
    "\n",
    "        fig, (ax, rax) = plt.subplots(2, 1, figsize=(11,13), gridspec_kw={\"height_ratios\": (3, 1)}, sharex=True)\n",
    "        fig.subplots_adjust(hspace=.07)\n",
    "        ax.set_prop_cycle(cycler(color=colors))\n",
    "        \n",
    "\n",
    "        plot.plot1d(data_hists[key].integrate('region',j).sum('gentype')[data[str(j).split('_')[0]]],            \n",
    "                overlay=\"process\",\n",
    "                ax=ax,\n",
    "                clear=False,\n",
    "                error_opts=data_err_opts\n",
    "                   )\n",
    "\n",
    "        plot.plot1d(bkg_hists[key].integrate('region',j).sum('gentype'),\n",
    "                overlay=\"process\",\n",
    "                ax=ax,\n",
    "                clear=False,\n",
    "                stack=True,\n",
    "                fill_opts=fill_opts,\n",
    "                error_opts=error_opts\n",
    "                   )\n",
    "        \n",
    "        plot.plotratio(data_hists[key].integrate('region',j).sum('gentype').integrate('process',data[str(j).split('_')[0]]), \n",
    "                   bkg_hists[key].integrate('region',j).sum('gentype').sum('process'),\n",
    "                   ax=rax,\n",
    "                   overflow='over',\n",
    "                   error_opts=data_err_opts,\n",
    "                   denom_fill_opts={},\n",
    "                   guide_opts={},\n",
    "                   unc='num'\n",
    "                   )\n",
    "        \n",
    "        rax.set_ylabel('Ratio (data/MC)')\n",
    "        rax.set_ylim(0.0,2.0)\n",
    "        rax.grid(axis='y')\n",
    "        \n",
    "        ax._get_lines.prop_cycler = ax._get_patches_for_fill.prop_cycler\n",
    "        args = {'linestyle':'--', 'linewidth': 5}\n",
    "        ax.autoscale(axis='x', tight=True)\n",
    "        ax.set_yscale('log')\n",
    "        if(key=='dielemass' or key=='dimumass'): ax.set_xlim(50, 130)\n",
    "        ax.set_ylim(.1, None)\n",
    "        leg = ax.legend(ncol=2, loc='best')\n",
    "        \n",
    "        coffee = plt.text(0., 1., u\"☕ \"+R[str(j).split('_')[0]], fontsize=20, horizontalalignment='left', verticalalignment='bottom', transform=ax.transAxes)\n",
    "        lumi = plt.text(1., 1., r\"59.97 fb$^{-1}$ (13 TeV)\", fontsize=17, horizontalalignment='right', verticalalignment='bottom', transform=ax.transAxes)\n",
    "        plot_path = os.path.abspath('../plots') \n",
    "        plot_name = 'stack_'+key+'_'+R[str(j).split('_')[0]]+'.png'\n",
    "        #fig.savefig(os.path.join(plot_path, plot_name))"
   ]
  },
  {
   "cell_type": "code",
   "execution_count": 47,
   "metadata": {},
   "outputs": [],
   "source": [
    "systematic = hist.Cat(\"systematic\", \"systematics\", sorting='placement')\n",
    "cats = (\"systematic\",)\n",
    "btag_map = OrderedDict()\n",
    "btag_map[\"nominal\"] = (\"nominal\", )\n",
    "btag_map[\"btagDown\"] = (\"btagDown*\", )\n",
    "btag_map[\"btagUp\"] = (\"btagUp*\", )\n",
    "ewk_map = OrderedDict()\n",
    "ewk_map[\"nominal\"] = (\"nominal\", )\n",
    "ewk_map[\"ew1Down\"] = (\"ew1Down\", )\n",
    "ewk_map[\"ew1Up\"] = (\"ew1Up\", )\n",
    "ewk_map[\"ew2GDown\"] = (\"ew2GDown\", )\n",
    "ewk_map[\"ew2GUp\"] = (\"ew2GUp\", )\n",
    "ewk_map[\"ew2WDown\"] = (\"ew2WDown\", )\n",
    "ewk_map[\"ew2WUp\"] = (\"ew2WUp\", )\n",
    "ewk_map[\"ew2ZDown\"] = (\"ew2ZDown\", )\n",
    "ewk_map[\"ew2ZUp\"] = (\"ew2ZUp\", )\n",
    "ewk_map[\"ew3GDown\"] = (\"ew3GDown\", )\n",
    "ewk_map[\"ew3GUp\"] = (\"ew3GUp\", )\n",
    "ewk_map[\"ew3WDown\"] = (\"ew3WDown\", )\n",
    "ewk_map[\"ew3WUp\"] = (\"ew3WUp\", )\n",
    "ewk_map[\"ew3ZDown\"] = (\"ew3ZDown\", )\n",
    "ewk_map[\"ew3ZUp\"] = (\"ew3ZUp\", )\n",
    "qcd_map = OrderedDict()\n",
    "qcd_map[\"nominal\"] = (\"nominal\", )\n",
    "qcd_map[\"qcd1Down\"] = (\"qcd1Down\", )\n",
    "qcd_map[\"qcd1Up\"] = (\"qcd1Up\", )\n",
    "qcd_map[\"qcd2Down\"] = (\"qcd2Down\", )\n",
    "qcd_map[\"qcd2Up\"] = (\"qcd2Up\", )\n",
    "qcd_map[\"qcd3Down\"] = (\"qcd3Down\", )\n",
    "qcd_map[\"qcd3Up\"] = (\"qcd3Up\", )\n",
    "mu_map = OrderedDict()\n",
    "mu_map[\"nominal\"] = (\"nominal\", )\n",
    "mu_map[\"muFDown\"] = (\"muFDown\", )\n",
    "mu_map[\"muFUp\"] = (\"muFUp\", )\n",
    "mu_map[\"muRDown\"] = (\"muRDown\", )\n",
    "mu_map[\"muRUp\"] = (\"muRUp\", )\n",
    "\n",
    "btag_hists=bkg_hists['template'].group(cats, systematic, btag_map)\n",
    "ewk_hists=bkg_hists['template'].group(cats, systematic, ewk_map)\n",
    "qcd_hists=bkg_hists['template'].group(cats, systematic, qcd_map)\n",
    "mu_hists=bkg_hists['template'].group(cats, systematic, mu_map)"
   ]
  },
  {
   "cell_type": "code",
   "execution_count": 48,
   "metadata": {},
   "outputs": [
    {
     "data": {
      "text/plain": [
       "[<StringBin (nominal) instance at 0x7f45a1421828>,\n",
       " <StringBin (btagDown) instance at 0x7f45a163c940>,\n",
       " <StringBin (btagUp) instance at 0x7f45a1421908>]"
      ]
     },
     "execution_count": 48,
     "metadata": {},
     "output_type": "execute_result"
    }
   ],
   "source": [
    "btag_hists.integrate('region','sr').integrate('process', 'Z+LF').sum('gentype','fjmass','ZHbbvsQCD',overflow='all').identifiers('systematic')"
   ]
  },
  {
   "cell_type": "code",
   "execution_count": 49,
   "metadata": {},
   "outputs": [
    {
     "name": "stdout",
     "output_type": "stream",
     "text": [
      "<Hist (systematic,recoil) instance at 0x7f45a1430e80>\n",
      "nominal\n",
      "muFDown\n",
      "muFUp\n",
      "muRDown\n",
      "muRUp\n"
     ]
    },
    {
     "data": {
      "text/plain": [
       "(0.8, 1.2)"
      ]
     },
     "execution_count": 49,
     "metadata": {},
     "output_type": "execute_result"
    },
    {
     "data": {
      "image/png": "[encoded data removed]",
      "text/plain": [
       "<Figure size 432x288 with 1 Axes>"
      ]
     },
     "metadata": {
      "needs_background": "light"
     },
     "output_type": "display_data"
    }
   ],
   "source": [
    "x=mu_hists.integrate('region','sr').integrate('process', 'Z+LF').sum('gentype','fjmass','ZHbbvsQCD',overflow='all')\n",
    "print(x)\n",
    "for syst in x.identifiers('systematic'):\n",
    "    print(syst)\n",
    "    if str(syst) == 'nominal': continue\n",
    "    #x.values()[(str(syst),)] = abs(x.values()[(str(syst),)]-x.values()[('nominal',)])\n",
    "    x.values()[(str(syst),)]/=x.values()[('nominal',)]\n",
    "x.values()[('nominal',)]/=x.values()[('nominal',)]\n",
    "plot = hist.plot1d(x,overlay='systematic')\n",
    "#plot = hist.plot1d(x.integrate('systematic','qcd3Up'))\n",
    "#plot.set_xlim(250, 260)\n",
    "plot.set_ylim(0.80, 1.20)"
   ]
  },
  {
   "cell_type": "code",
   "execution_count": null,
   "metadata": {},
   "outputs": [],
   "source": []
  }
 ],
 "metadata": {
  "kernelspec": {
   "display_name": "Python 3",
   "language": "python",
   "name": "python3"
  },
  "language_info": {
   "codemirror_mode": {
    "name": "ipython",
    "version": 3
   },
   "file_extension": ".py",
   "mimetype": "text/x-python",
   "name": "python",
   "nbconvert_exporter": "python",
   "pygments_lexer": "ipython3",
   "version": "3.6.5"
  }
 },
 "nbformat": 4,
 "nbformat_minor": 2
}
