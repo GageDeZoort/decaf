{
 "cells": [
  {
   "cell_type": "code",
   "execution_count": 1,
   "metadata": {},
   "outputs": [],
   "source": [
    "# NB: This is for spark running on parquet files converted from\n",
    "#     baconbits skims. This is a prototype, there is lots of boilerplate.\n",
    "#     We're making it better :-)\n",
    "\n",
    "import pyspark.sql\n",
    "import os\n",
    "import sys\n",
    "from pyarrow.compat import guid\n",
    "from coffea.processor.spark.detail import _spark_initialize\n",
    "\n",
    "# The following line is necessary because we're working in a\n",
    "# virtualenv. Without it, executors will use the wrong interpreter!\n",
    "#os.environ['PYSPARK_PYTHON'] = sys.executable\n",
    "\n",
    "#    .config(\"spark.driver.extraClassPath\",\"/home/cms.lgray/sparkMeasure/target/scala-2.12/spark-measure_2.12-0.14-SNAPSHOT.jar\") \\\n",
    "#    .master('local[1]') \\\n",
    "#    .master('spark://cmsspark-submit.fnal.gov:7077') \\\n",
    "conf = pyspark.sql.SparkSession.builder \\\n",
    "    .appName('decaf-%s' % guid()) \\\n",
    "    .master('local[1]') \\\n",
    "    .config('spark.driver.cores',8) \\\n",
    "    .config('spark.driver.memory','10g') \\\n",
    "    .config('spark.executor.memory', \"20g\") \\\n",
    "    .config('spark.debug.maxToStringFields',1000) \\\n",
    "    .config('spark.executorEnv.XRD_RUNFORKHANDLER','1') \\\n",
    "    .config('spark.executorEnv.X509_PROXY',\"%s\" % os.environ['X509_USER_PROXY']) \\\n",
    "    .config('spark.files','%s' % os.environ['X509_USER_PROXY']) \\\n",
    "    .config('spark.sql.execution.arrow.enabled','true') \\\n",
    "    .config(\"spark.blockManager.port\", \"8000\") \\\n",
    "    .config('spark.shuffle.service.enabled','true') \\\n",
    "    .config('spark.scheduler.mode', 'FAIR') \\\n",
    "    .config('spark.executor.instances','1') \\\n",
    "    .config('spark.dynamicAllocation.enabled','true') \\\n",
    "    .config('spark.dynamicAllocation.executorIdleTimeout','1m') \\\n",
    "    .config('spark.dynamicAllocation.cachedExecutorIdleTimeout','10m') \\\n",
    "    .config('spark.dynamicAllocation.minExecutors','1') \\\n",
    "    .config('spark.dynamicAllocation.maxExecutors','80') \\\n",
    "    .config('spark.sql.execution.arrow.pyspark.enabled','true') \\\n",
    "    .config('spark.sql.execution.arrow.maxRecordsPerBatch', 200000) \\\n",
    "    .config('spark.hadoop.fs.xrootd.read.buffer', 100 * 1048576) \\\n",
    "    .config('spark.hadoop.fs.xrootd.write.buffer', 100 * 1048576) \\\n",
    "    .config('spark.driver.extraClassPath','file:///opt/hadoop-xrootd/hadoop-xrootd-1.0.4-jar-with-dependencies.jar') \\\n",
    "    .config('spark.executor.extraClassPath','file:///opt/hadoop-xrootd/hadoop-xrootd-1.0.4-jar-with-dependencies.jar')\n",
    "session = _spark_initialize(config=conf,log_level='WARN',laurelin_version='0.4.2-SNAPSHOT')\n",
    "sc = session.sparkContext\n",
    "sc.setLogLevel(\"WARN\")\n",
    "spark = session\n",
    "\n",
    "#from sparkmeasure import TaskMetrics\n",
    "#taskmetrics = TaskMetrics(spark)\n",
    "\n",
    "partitionsize = 200000\n",
    "thread_workers = 32\n"
   ]
  },
  {
   "cell_type": "code",
   "execution_count": 2,
   "metadata": {},
   "outputs": [
    {
     "name": "stdout",
     "output_type": "stream",
     "text": [
      "dict_keys(['MET____0_'])\n"
     ]
    }
   ],
   "source": [
    "import pyspark.sql.functions as fn\n",
    "from tqdm import tqdm\n",
    "import json\n",
    "\n",
    "fileslice = slice(None)\n",
    "with open(\"metadata/2018.json\") as fin:\n",
    "    samplefiles = json.load(fin)\n",
    "\n",
    "filelist = {}\n",
    "for dataset, info in samplefiles.items():\n",
    "    #print(dataset)\n",
    "    files = []\n",
    "    for file in info['files'][fileslice]:\n",
    "        files.append(file)\n",
    "    if 'MET____0_' in dataset: filelist[dataset] = {'files': files, 'treename': 'Events'}\n",
    "print(filelist.keys())\n"
   ]
  },
  {
   "cell_type": "code",
   "execution_count": 11,
   "metadata": {},
   "outputs": [],
   "source": [
    "#get the dark Higgs analysis worker\n",
    "from coffea.util import load\n",
    "\n",
    "processor_instance = load('darkhiggs2018.coffea')\n"
   ]
  },
  {
   "cell_type": "code",
   "execution_count": 12,
   "metadata": {},
   "outputs": [
    {
     "data": {
      "application/vnd.jupyter.widget-view+json": {
       "model_id": "e14ee70f453e4f5f8e7b70603f6a8f10",
       "version_major": 2,
       "version_minor": 0
      },
      "text/plain": [
       "HBox(children=(IntProgress(value=0, description='Processing', max=1, style=ProgressStyle(description_width='in…"
      ]
     },
     "metadata": {},
     "output_type": "display_data"
    },
    {
     "name": "stdout",
     "output_type": "stream",
     "text": [
      "\n"
     ]
    },
    {
     "ename": "Exception",
     "evalue": "The histogram list returned from spark is empty in dataset: MET____0_, something went wrong!",
     "output_type": "error",
     "traceback": [
      "\u001b[0;31m---------------------------------------------------------------------------\u001b[0m",
      "\u001b[0;31mException\u001b[0m                                 Traceback (most recent call last)",
      "\u001b[0;32m<ipython-input-12-e52fd9b79cad>\u001b[0m in \u001b[0;36m<module>\u001b[0;34m\u001b[0m\n\u001b[1;32m      6\u001b[0m final_accumulator = run_spark_job(filelist, processor_instance, spark_executor, \n\u001b[1;32m      7\u001b[0m                                   \u001b[0mspark\u001b[0m\u001b[0;34m=\u001b[0m\u001b[0mspark\u001b[0m\u001b[0;34m,\u001b[0m \u001b[0mpartitionsize\u001b[0m\u001b[0;34m=\u001b[0m\u001b[0mpartitionsize\u001b[0m\u001b[0;34m,\u001b[0m \u001b[0mthread_workers\u001b[0m\u001b[0;34m=\u001b[0m\u001b[0mthread_workers\u001b[0m\u001b[0;34m,\u001b[0m\u001b[0;34m\u001b[0m\u001b[0;34m\u001b[0m\u001b[0m\n\u001b[0;32m----> 8\u001b[0;31m                                   executor_args={'file_type': 'root', 'cache': True})\n\u001b[0m\u001b[1;32m      9\u001b[0m \u001b[0mdt\u001b[0m \u001b[0;34m=\u001b[0m \u001b[0mtime\u001b[0m\u001b[0;34m.\u001b[0m\u001b[0mtime\u001b[0m\u001b[0;34m(\u001b[0m\u001b[0;34m)\u001b[0m \u001b[0;34m-\u001b[0m \u001b[0mtic\u001b[0m\u001b[0;34m\u001b[0m\u001b[0;34m\u001b[0m\u001b[0m\n",
      "\u001b[0;32m/usr/local/lib/python3.6/site-packages/coffea/processor/executor.py\u001b[0m in \u001b[0;36mrun_spark_job\u001b[0;34m(fileset, processor_instance, executor, executor_args, spark, partitionsize, thread_workers)\u001b[0m\n\u001b[1;32m    723\u001b[0m \u001b[0;34m\u001b[0m\u001b[0m\n\u001b[1;32m    724\u001b[0m     \u001b[0moutput\u001b[0m \u001b[0;34m=\u001b[0m \u001b[0mprocessor_instance\u001b[0m\u001b[0;34m.\u001b[0m\u001b[0maccumulator\u001b[0m\u001b[0;34m.\u001b[0m\u001b[0midentity\u001b[0m\u001b[0;34m(\u001b[0m\u001b[0;34m)\u001b[0m\u001b[0;34m\u001b[0m\u001b[0;34m\u001b[0m\u001b[0m\n\u001b[0;32m--> 725\u001b[0;31m     \u001b[0mexecutor\u001b[0m\u001b[0;34m(\u001b[0m\u001b[0mspark\u001b[0m\u001b[0;34m,\u001b[0m \u001b[0mdfslist\u001b[0m\u001b[0;34m,\u001b[0m \u001b[0mprocessor_instance\u001b[0m\u001b[0;34m,\u001b[0m \u001b[0moutput\u001b[0m\u001b[0;34m,\u001b[0m \u001b[0mthread_workers\u001b[0m\u001b[0;34m,\u001b[0m \u001b[0muse_cache\u001b[0m\u001b[0;34m,\u001b[0m \u001b[0mflatten\u001b[0m\u001b[0;34m)\u001b[0m\u001b[0;34m\u001b[0m\u001b[0;34m\u001b[0m\u001b[0m\n\u001b[0m\u001b[1;32m    726\u001b[0m     \u001b[0mprocessor_instance\u001b[0m\u001b[0;34m.\u001b[0m\u001b[0mpostprocess\u001b[0m\u001b[0;34m(\u001b[0m\u001b[0moutput\u001b[0m\u001b[0;34m)\u001b[0m\u001b[0;34m\u001b[0m\u001b[0;34m\u001b[0m\u001b[0m\n\u001b[1;32m    727\u001b[0m \u001b[0;34m\u001b[0m\u001b[0m\n",
      "\u001b[0;32m/usr/local/lib/python3.6/site-packages/coffea/processor/spark/spark_executor.py\u001b[0m in \u001b[0;36m__call__\u001b[0;34m(self, spark, dfslist, theprocessor, output, thread_workers, use_df_cache, flatten, status, unit, desc)\u001b[0m\n\u001b[1;32m    115\u001b[0m                 \u001b[0;32mraise\u001b[0m \u001b[0mException\u001b[0m\u001b[0;34m(\u001b[0m\u001b[0;34m'No pandas dataframe returns from spark in dataset: %s, something went wrong!'\u001b[0m \u001b[0;34m%\u001b[0m \u001b[0mds\u001b[0m\u001b[0;34m)\u001b[0m\u001b[0;34m\u001b[0m\u001b[0;34m\u001b[0m\u001b[0m\n\u001b[1;32m    116\u001b[0m             \u001b[0;32mif\u001b[0m \u001b[0mbitstream\u001b[0m\u001b[0;34m.\u001b[0m\u001b[0mempty\u001b[0m\u001b[0;34m:\u001b[0m\u001b[0;34m\u001b[0m\u001b[0;34m\u001b[0m\u001b[0m\n\u001b[0;32m--> 117\u001b[0;31m                 \u001b[0;32mraise\u001b[0m \u001b[0mException\u001b[0m\u001b[0;34m(\u001b[0m\u001b[0;34m'The histogram list returned from spark is empty in dataset: %s, something went wrong!'\u001b[0m \u001b[0;34m%\u001b[0m \u001b[0mds\u001b[0m\u001b[0;34m)\u001b[0m\u001b[0;34m\u001b[0m\u001b[0;34m\u001b[0m\u001b[0m\n\u001b[0m\u001b[1;32m    118\u001b[0m             \u001b[0mbits\u001b[0m \u001b[0;34m=\u001b[0m \u001b[0mbitstream\u001b[0m\u001b[0;34m[\u001b[0m\u001b[0mbitstream\u001b[0m\u001b[0;34m.\u001b[0m\u001b[0mcolumns\u001b[0m\u001b[0;34m[\u001b[0m\u001b[0;36m0\u001b[0m\u001b[0;34m]\u001b[0m\u001b[0;34m]\u001b[0m\u001b[0;34m[\u001b[0m\u001b[0;36m0\u001b[0m\u001b[0;34m]\u001b[0m\u001b[0;34m\u001b[0m\u001b[0;34m\u001b[0m\u001b[0m\n\u001b[1;32m    119\u001b[0m             \u001b[0moutput\u001b[0m\u001b[0;34m.\u001b[0m\u001b[0madd\u001b[0m\u001b[0;34m(\u001b[0m\u001b[0mpkl\u001b[0m\u001b[0;34m.\u001b[0m\u001b[0mloads\u001b[0m\u001b[0;34m(\u001b[0m\u001b[0mlz4f\u001b[0m\u001b[0;34m.\u001b[0m\u001b[0mdecompress\u001b[0m\u001b[0;34m(\u001b[0m\u001b[0mbits\u001b[0m\u001b[0;34m)\u001b[0m\u001b[0;34m)\u001b[0m\u001b[0;34m)\u001b[0m\u001b[0;34m\u001b[0m\u001b[0;34m\u001b[0m\u001b[0m\n",
      "\u001b[0;31mException\u001b[0m: The histogram list returned from spark is empty in dataset: MET____0_, something went wrong!"
     ]
    }
   ],
   "source": [
    "import time\n",
    "from coffea.processor import run_spark_job\n",
    "from coffea.processor.spark.spark_executor import spark_executor\n",
    "\n",
    "tic = time.time()\n",
    "final_accumulator = run_spark_job(filelist, processor_instance, spark_executor, \n",
    "                                  spark=spark, partitionsize=partitionsize, thread_workers=thread_workers,\n",
    "                                  executor_args={'file_type': 'root', 'cache': True})\n",
    "dt = time.time() - tic\n"
   ]
  },
  {
   "cell_type": "code",
   "execution_count": null,
   "metadata": {
    "scrolled": true
   },
   "outputs": [],
   "source": [
    "nevt = sum(spark_executor.counts.values())\n",
    "print('processed:',nevt,'events')\n",
    "print('total time: ',dt/60)\n",
    "print('μs/evt', dt/nevt*1e6)\n",
    "print('Mevt/s', nevt/dt/1e6)\n"
   ]
  },
  {
   "cell_type": "code",
   "execution_count": null,
   "metadata": {},
   "outputs": [],
   "source": [
    "from coffea import hist\n",
    "from coffea.util import save\n",
    "import gzip\n",
    "import pickle\n",
    "import numexpr\n",
    "import numpy as np\n",
    "\n",
    "nbins = sum(sum(arr.size for arr in h._sumw.values()) for h in final_accumulator.values() if isinstance(h, hist.Hist))\n",
    "nfilled = sum(sum(np.sum(arr>0) for arr in h._sumw.values()) for h in final_accumulator.values() if isinstance(h, hist.Hist))\n",
    "print(\"Processed %.1fM events\" % (nevt/1e6, ))\n",
    "print(\"Filled %.1fM bins\" % (nbins/1e6, ))\n",
    "print(\"Nonzero bins: %.1f%%\" % (100*nfilled/nbins, ))\n",
    "\n",
    "# Pickle is not very fast or memory efficient, will be replaced by something better soon\n",
    "save(final_accumulator,'pods/pods2018.coffea')\n",
    "\n",
    "#dt = time.time() - tstart\n",
    "#print(\"%.2f us*cpu/event overall\" % (1e6*dt*nworkers/final_accumulators['nentries'], ))\n"
   ]
  },
  {
   "cell_type": "code",
   "execution_count": null,
   "metadata": {},
   "outputs": [],
   "source": [
    "spark.stop()\n"
   ]
  },
  {
   "cell_type": "code",
   "execution_count": null,
   "metadata": {},
   "outputs": [],
   "source": []
  }
 ],
 "metadata": {
  "kernelspec": {
   "display_name": "Python 3",
   "language": "python",
   "name": "python3"
  },
  "language_info": {
   "codemirror_mode": {
    "name": "ipython",
    "version": 3
   },
   "file_extension": ".py",
   "mimetype": "text/x-python",
   "name": "python",
   "nbconvert_exporter": "python",
   "pygments_lexer": "ipython3",
   "version": "3.6.8"
  }
 },
 "nbformat": 4,
 "nbformat_minor": 2
}
